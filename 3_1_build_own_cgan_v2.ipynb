{
  "nbformat": 4,
  "nbformat_minor": 0,
  "metadata": {
    "colab": {
      "name": "3-1.build_own_cgan_v2.ipynb",
      "provenance": [],
      "mount_file_id": "1ooybgo1zNGUUpOE7xW-j5CYfBlKyUloa",
      "authorship_tag": "ABX9TyN5wV8xxTNgOAtvXM/bwXhQ",
      "include_colab_link": true
    },
    "kernelspec": {
      "name": "python3",
      "display_name": "Python 3"
    },
    "language_info": {
      "name": "python"
    },
    "accelerator": "GPU"
  },
  "cells": [
    {
      "cell_type": "markdown",
      "metadata": {
        "id": "view-in-github",
        "colab_type": "text"
      },
      "source": [
        "<a href=\"https://colab.research.google.com/github/yutaro-tanaka-yt2705/ag-cgan/blob/main/3_1_build_own_cgan_v2.ipynb\" target=\"_parent\"><img src=\"https://colab.research.google.com/assets/colab-badge.svg\" alt=\"Open In Colab\"/></a>"
      ]
    },
    {
      "cell_type": "code",
      "execution_count": 1,
      "metadata": {
        "id": "hOwSHhdxck_8"
      },
      "outputs": [],
      "source": [
        "#Import our common libraries\n",
        "import pandas as pd\n",
        "import numpy as np\n",
        "from tqdm import tqdm\n",
        "import matplotlib.pyplot as plt\n",
        "import gzip\n",
        "import sys\n",
        "import warnings\n",
        "import random"
      ]
    },
    {
      "cell_type": "code",
      "source": [
        "#Import our DL libraries\n",
        "import tensorflow as tf\n",
        "import tensorflow.keras as keras\n",
        "from tensorflow.keras import regularizers, layers\n",
        "import tensorflow.keras.backend as K\n",
        "from tensorflow.keras.layers import Input, Dense, Activation, LeakyReLU, BatchNormalization\n",
        "from tensorflow.keras.models import Sequential, load_model, save_model, model_from_json\n",
        "from tensorflow.keras.optimizers import Adam\n",
        "from sklearn.model_selection import train_test_split\n",
        "from torch.optim import Adam\n",
        "import torch.cuda as cuda\n",
        "import torch.nn as nn\n",
        "import torch\n",
        "from torch.distributions import Normal\n",
        "######################################\n",
        "device_name = tf.test.gpu_device_name()\n",
        "if device_name != '/device:GPU:0':\n",
        "  print('Check GPU')"
      ],
      "metadata": {
        "id": "G5rCvGvddbXj"
      },
      "execution_count": 2,
      "outputs": []
    },
    {
      "cell_type": "code",
      "source": [
        "#Saving model\n",
        "def save_mod(g, d, epo,folder='/content/drive/MyDrive/artificial_genome_project/cgan_models/'):\n",
        "    discriminator.trainable = True\n",
        "    save_model(g, folder+str(epo)+\"_generator\")\n",
        "    save_model(d,folder+str(epo)+\"_discriminator\")"
      ],
      "metadata": {
        "id": "BEB8HF1Lj0Od"
      },
      "execution_count": 3,
      "outputs": []
    },
    {
      "cell_type": "code",
      "source": [
        "#Import our data\n",
        "data = pd.read_csv('/content/drive/MyDrive/artificial_genome_project/test_dataset.csv')\n",
        "data.head()"
      ],
      "metadata": {
        "colab": {
          "base_uri": "https://localhost:8080/",
          "height": 299
        },
        "id": "b4NHribkddeh",
        "outputId": "ed603e30-3361-4867-b371-8503b1c0a55c"
      },
      "execution_count": 4,
      "outputs": [
        {
          "output_type": "execute_result",
          "data": {
            "text/plain": [
              "        ID pair  X_1343510_CA_C  X_2464340_G_A  X_844565_T_G  X_1443587_C_T  \\\n",
              "0  HG00096    A               0              0             0              1   \n",
              "1  HG00096    B               0              0             1              1   \n",
              "2  HG00097    A               0              0             1              1   \n",
              "3  HG00097    B               0              0             1              1   \n",
              "4  HG00099    A               0              0             1              1   \n",
              "\n",
              "   X_846946_A_G  X_155783945_C_T  X_2348441_C_T  X_1495791_C_G  ...  \\\n",
              "0             0                1              1              1  ...   \n",
              "1             1                1              0              1  ...   \n",
              "2             1                1              0              1  ...   \n",
              "3             0                1              0              0  ...   \n",
              "4             1                1              0              0  ...   \n",
              "\n",
              "   X_1494970_G_A  X_2272724_A_C  X_2441570_T_C  X_1420810_T_C  X_719380_A_G  \\\n",
              "0              0              1              0              0             0   \n",
              "1              0              1              0              0             0   \n",
              "2              0              0              0              1             0   \n",
              "3              0              1              0              0             0   \n",
              "4              0              1              1              1             0   \n",
              "\n",
              "   X_1115457_A_G  X_2449045_T_C  X_1165297_A_G  population_code  suppop_code  \n",
              "0              0              0              1             10.0          3.0  \n",
              "1              1              0              0             10.0          3.0  \n",
              "2              0              0              0             10.0          3.0  \n",
              "3              0              1              0             10.0          3.0  \n",
              "4              0              1              0             10.0          3.0  \n",
              "\n",
              "[5 rows x 1004 columns]"
            ],
            "text/html": [
              "\n",
              "  <div id=\"df-9a8f067c-b3f7-43f0-8759-e3f9e253154d\">\n",
              "    <div class=\"colab-df-container\">\n",
              "      <div>\n",
              "<style scoped>\n",
              "    .dataframe tbody tr th:only-of-type {\n",
              "        vertical-align: middle;\n",
              "    }\n",
              "\n",
              "    .dataframe tbody tr th {\n",
              "        vertical-align: top;\n",
              "    }\n",
              "\n",
              "    .dataframe thead th {\n",
              "        text-align: right;\n",
              "    }\n",
              "</style>\n",
              "<table border=\"1\" class=\"dataframe\">\n",
              "  <thead>\n",
              "    <tr style=\"text-align: right;\">\n",
              "      <th></th>\n",
              "      <th>ID</th>\n",
              "      <th>pair</th>\n",
              "      <th>X_1343510_CA_C</th>\n",
              "      <th>X_2464340_G_A</th>\n",
              "      <th>X_844565_T_G</th>\n",
              "      <th>X_1443587_C_T</th>\n",
              "      <th>X_846946_A_G</th>\n",
              "      <th>X_155783945_C_T</th>\n",
              "      <th>X_2348441_C_T</th>\n",
              "      <th>X_1495791_C_G</th>\n",
              "      <th>...</th>\n",
              "      <th>X_1494970_G_A</th>\n",
              "      <th>X_2272724_A_C</th>\n",
              "      <th>X_2441570_T_C</th>\n",
              "      <th>X_1420810_T_C</th>\n",
              "      <th>X_719380_A_G</th>\n",
              "      <th>X_1115457_A_G</th>\n",
              "      <th>X_2449045_T_C</th>\n",
              "      <th>X_1165297_A_G</th>\n",
              "      <th>population_code</th>\n",
              "      <th>suppop_code</th>\n",
              "    </tr>\n",
              "  </thead>\n",
              "  <tbody>\n",
              "    <tr>\n",
              "      <th>0</th>\n",
              "      <td>HG00096</td>\n",
              "      <td>A</td>\n",
              "      <td>0</td>\n",
              "      <td>0</td>\n",
              "      <td>0</td>\n",
              "      <td>1</td>\n",
              "      <td>0</td>\n",
              "      <td>1</td>\n",
              "      <td>1</td>\n",
              "      <td>1</td>\n",
              "      <td>...</td>\n",
              "      <td>0</td>\n",
              "      <td>1</td>\n",
              "      <td>0</td>\n",
              "      <td>0</td>\n",
              "      <td>0</td>\n",
              "      <td>0</td>\n",
              "      <td>0</td>\n",
              "      <td>1</td>\n",
              "      <td>10.0</td>\n",
              "      <td>3.0</td>\n",
              "    </tr>\n",
              "    <tr>\n",
              "      <th>1</th>\n",
              "      <td>HG00096</td>\n",
              "      <td>B</td>\n",
              "      <td>0</td>\n",
              "      <td>0</td>\n",
              "      <td>1</td>\n",
              "      <td>1</td>\n",
              "      <td>1</td>\n",
              "      <td>1</td>\n",
              "      <td>0</td>\n",
              "      <td>1</td>\n",
              "      <td>...</td>\n",
              "      <td>0</td>\n",
              "      <td>1</td>\n",
              "      <td>0</td>\n",
              "      <td>0</td>\n",
              "      <td>0</td>\n",
              "      <td>1</td>\n",
              "      <td>0</td>\n",
              "      <td>0</td>\n",
              "      <td>10.0</td>\n",
              "      <td>3.0</td>\n",
              "    </tr>\n",
              "    <tr>\n",
              "      <th>2</th>\n",
              "      <td>HG00097</td>\n",
              "      <td>A</td>\n",
              "      <td>0</td>\n",
              "      <td>0</td>\n",
              "      <td>1</td>\n",
              "      <td>1</td>\n",
              "      <td>1</td>\n",
              "      <td>1</td>\n",
              "      <td>0</td>\n",
              "      <td>1</td>\n",
              "      <td>...</td>\n",
              "      <td>0</td>\n",
              "      <td>0</td>\n",
              "      <td>0</td>\n",
              "      <td>1</td>\n",
              "      <td>0</td>\n",
              "      <td>0</td>\n",
              "      <td>0</td>\n",
              "      <td>0</td>\n",
              "      <td>10.0</td>\n",
              "      <td>3.0</td>\n",
              "    </tr>\n",
              "    <tr>\n",
              "      <th>3</th>\n",
              "      <td>HG00097</td>\n",
              "      <td>B</td>\n",
              "      <td>0</td>\n",
              "      <td>0</td>\n",
              "      <td>1</td>\n",
              "      <td>1</td>\n",
              "      <td>0</td>\n",
              "      <td>1</td>\n",
              "      <td>0</td>\n",
              "      <td>0</td>\n",
              "      <td>...</td>\n",
              "      <td>0</td>\n",
              "      <td>1</td>\n",
              "      <td>0</td>\n",
              "      <td>0</td>\n",
              "      <td>0</td>\n",
              "      <td>0</td>\n",
              "      <td>1</td>\n",
              "      <td>0</td>\n",
              "      <td>10.0</td>\n",
              "      <td>3.0</td>\n",
              "    </tr>\n",
              "    <tr>\n",
              "      <th>4</th>\n",
              "      <td>HG00099</td>\n",
              "      <td>A</td>\n",
              "      <td>0</td>\n",
              "      <td>0</td>\n",
              "      <td>1</td>\n",
              "      <td>1</td>\n",
              "      <td>1</td>\n",
              "      <td>1</td>\n",
              "      <td>0</td>\n",
              "      <td>0</td>\n",
              "      <td>...</td>\n",
              "      <td>0</td>\n",
              "      <td>1</td>\n",
              "      <td>1</td>\n",
              "      <td>1</td>\n",
              "      <td>0</td>\n",
              "      <td>0</td>\n",
              "      <td>1</td>\n",
              "      <td>0</td>\n",
              "      <td>10.0</td>\n",
              "      <td>3.0</td>\n",
              "    </tr>\n",
              "  </tbody>\n",
              "</table>\n",
              "<p>5 rows × 1004 columns</p>\n",
              "</div>\n",
              "      <button class=\"colab-df-convert\" onclick=\"convertToInteractive('df-9a8f067c-b3f7-43f0-8759-e3f9e253154d')\"\n",
              "              title=\"Convert this dataframe to an interactive table.\"\n",
              "              style=\"display:none;\">\n",
              "        \n",
              "  <svg xmlns=\"http://www.w3.org/2000/svg\" height=\"24px\"viewBox=\"0 0 24 24\"\n",
              "       width=\"24px\">\n",
              "    <path d=\"M0 0h24v24H0V0z\" fill=\"none\"/>\n",
              "    <path d=\"M18.56 5.44l.94 2.06.94-2.06 2.06-.94-2.06-.94-.94-2.06-.94 2.06-2.06.94zm-11 1L8.5 8.5l.94-2.06 2.06-.94-2.06-.94L8.5 2.5l-.94 2.06-2.06.94zm10 10l.94 2.06.94-2.06 2.06-.94-2.06-.94-.94-2.06-.94 2.06-2.06.94z\"/><path d=\"M17.41 7.96l-1.37-1.37c-.4-.4-.92-.59-1.43-.59-.52 0-1.04.2-1.43.59L10.3 9.45l-7.72 7.72c-.78.78-.78 2.05 0 2.83L4 21.41c.39.39.9.59 1.41.59.51 0 1.02-.2 1.41-.59l7.78-7.78 2.81-2.81c.8-.78.8-2.07 0-2.86zM5.41 20L4 18.59l7.72-7.72 1.47 1.35L5.41 20z\"/>\n",
              "  </svg>\n",
              "      </button>\n",
              "      \n",
              "  <style>\n",
              "    .colab-df-container {\n",
              "      display:flex;\n",
              "      flex-wrap:wrap;\n",
              "      gap: 12px;\n",
              "    }\n",
              "\n",
              "    .colab-df-convert {\n",
              "      background-color: #E8F0FE;\n",
              "      border: none;\n",
              "      border-radius: 50%;\n",
              "      cursor: pointer;\n",
              "      display: none;\n",
              "      fill: #1967D2;\n",
              "      height: 32px;\n",
              "      padding: 0 0 0 0;\n",
              "      width: 32px;\n",
              "    }\n",
              "\n",
              "    .colab-df-convert:hover {\n",
              "      background-color: #E2EBFA;\n",
              "      box-shadow: 0px 1px 2px rgba(60, 64, 67, 0.3), 0px 1px 3px 1px rgba(60, 64, 67, 0.15);\n",
              "      fill: #174EA6;\n",
              "    }\n",
              "\n",
              "    [theme=dark] .colab-df-convert {\n",
              "      background-color: #3B4455;\n",
              "      fill: #D2E3FC;\n",
              "    }\n",
              "\n",
              "    [theme=dark] .colab-df-convert:hover {\n",
              "      background-color: #434B5C;\n",
              "      box-shadow: 0px 1px 3px 1px rgba(0, 0, 0, 0.15);\n",
              "      filter: drop-shadow(0px 1px 2px rgba(0, 0, 0, 0.3));\n",
              "      fill: #FFFFFF;\n",
              "    }\n",
              "  </style>\n",
              "\n",
              "      <script>\n",
              "        const buttonEl =\n",
              "          document.querySelector('#df-9a8f067c-b3f7-43f0-8759-e3f9e253154d button.colab-df-convert');\n",
              "        buttonEl.style.display =\n",
              "          google.colab.kernel.accessAllowed ? 'block' : 'none';\n",
              "\n",
              "        async function convertToInteractive(key) {\n",
              "          const element = document.querySelector('#df-9a8f067c-b3f7-43f0-8759-e3f9e253154d');\n",
              "          const dataTable =\n",
              "            await google.colab.kernel.invokeFunction('convertToInteractive',\n",
              "                                                     [key], {});\n",
              "          if (!dataTable) return;\n",
              "\n",
              "          const docLinkHtml = 'Like what you see? Visit the ' +\n",
              "            '<a target=\"_blank\" href=https://colab.research.google.com/notebooks/data_table.ipynb>data table notebook</a>'\n",
              "            + ' to learn more about interactive tables.';\n",
              "          element.innerHTML = '';\n",
              "          dataTable['output_type'] = 'display_data';\n",
              "          await google.colab.output.renderOutput(dataTable, element);\n",
              "          const docLink = document.createElement('div');\n",
              "          docLink.innerHTML = docLinkHtml;\n",
              "          element.appendChild(docLink);\n",
              "        }\n",
              "      </script>\n",
              "    </div>\n",
              "  </div>\n",
              "  "
            ]
          },
          "metadata": {},
          "execution_count": 4
        }
      ]
    },
    {
      "cell_type": "code",
      "source": [
        "var_data = data.iloc[:, 2:-2] #training data\n",
        "#labels = keras.utils.to_categorical(data.population_code.tolist(), len(data.population_code.unique())) #training labels\n",
        "labels = keras.utils.to_categorical(data.suppop_code.tolist(), len(data.suppop_code.unique())) #superpopulation labels\n",
        "print(var_data.shape, labels.shape)"
      ],
      "metadata": {
        "colab": {
          "base_uri": "https://localhost:8080/"
        },
        "id": "6l1vmYaIVvEB",
        "outputId": "a1432026-db8d-42d6-9fac-ab922ca7f88d"
      },
      "execution_count": 6,
      "outputs": [
        {
          "output_type": "stream",
          "name": "stdout",
          "text": [
            "(5096, 1000) (5096, 5)\n"
          ]
        }
      ]
    },
    {
      "cell_type": "code",
      "source": [
        "#Implement hyperparameters\n",
        "class Hyperparameter:\n",
        "    num_classes: int        = labels.shape[1]\n",
        "    num_channels: int       = 1\n",
        "    batchsize: int          = 16\n",
        "    num_epochs: int         = 20\n",
        "    latent_size: int        = 64\n",
        "    n_critic: int           = 5\n",
        "    critic_size: int        = 1024\n",
        "    generator_size: int     = 1024\n",
        "    critic_hidden_size: int = 1024\n",
        "    gp_lambda: float        = 10.\n",
        "    alpha: int              = 0.01\n",
        "    d_lr: float             = 0.008\n",
        "    g_lr: float             = 0.008\n",
        "        \n",
        "hp = Hyperparameter()"
      ],
      "metadata": {
        "id": "URZ7WOV3e7r5"
      },
      "execution_count": 7,
      "outputs": []
    },
    {
      "cell_type": "code",
      "source": [
        "#Implement dataset\n",
        "dataset = tf.data.Dataset.from_tensor_slices((var_data, labels))"
      ],
      "metadata": {
        "id": "zw0e2QrYvN88"
      },
      "execution_count": 8,
      "outputs": []
    },
    {
      "cell_type": "code",
      "source": [
        "for e in dataset:\n",
        "  print(e[0].shape, e[1].shape)\n",
        "  break"
      ],
      "metadata": {
        "colab": {
          "base_uri": "https://localhost:8080/"
        },
        "id": "zaKFhS-3xWyM",
        "outputId": "be4fcdbd-d334-43be-be35-3dc6665cdc04"
      },
      "execution_count": 9,
      "outputs": [
        {
          "output_type": "stream",
          "name": "stdout",
          "text": [
            "(1000,) (5,)\n"
          ]
        }
      ]
    },
    {
      "cell_type": "code",
      "source": [
        "#Implement Generator\n",
        "generator = Sequential(name='generator')\n",
        "generator.add(keras.layers.InputLayer((hp.latent_size + hp.num_classes)))\n",
        "generator.add(Dense(int(var_data.shape[1]//1.2), kernel_regularizer=regularizers.l2(0.0001)))\n",
        "generator.add(BatchNormalization())\n",
        "generator.add(LeakyReLU(alpha=hp.alpha))\n",
        "generator.add(Dense(int(var_data.shape[1]//1.1), kernel_regularizer=regularizers.l2(0.0001)))\n",
        "generator.add(BatchNormalization())\n",
        "generator.add(LeakyReLU(alpha=hp.alpha))\n",
        "generator.add(Dense(var_data.shape[1], activation = 'tanh'))\n",
        "generator.build()"
      ],
      "metadata": {
        "id": "8pU5A9egVDjF"
      },
      "execution_count": 22,
      "outputs": []
    },
    {
      "cell_type": "code",
      "source": [
        "generator.summary()"
      ],
      "metadata": {
        "colab": {
          "base_uri": "https://localhost:8080/"
        },
        "id": "K51Y151z1XXj",
        "outputId": "e9dafa5c-c26a-4e54-8cc1-30e711798e44"
      },
      "execution_count": 23,
      "outputs": [
        {
          "output_type": "stream",
          "name": "stdout",
          "text": [
            "Model: \"generator\"\n",
            "_________________________________________________________________\n",
            " Layer (type)                Output Shape              Param #   \n",
            "=================================================================\n",
            " dense_15 (Dense)            (None, 833)               58310     \n",
            "                                                                 \n",
            " batch_normalization_4 (Batc  (None, 833)              3332      \n",
            " hNormalization)                                                 \n",
            "                                                                 \n",
            " leaky_re_lu_10 (LeakyReLU)  (None, 833)               0         \n",
            "                                                                 \n",
            " dense_16 (Dense)            (None, 909)               758106    \n",
            "                                                                 \n",
            " batch_normalization_5 (Batc  (None, 909)              3636      \n",
            " hNormalization)                                                 \n",
            "                                                                 \n",
            " leaky_re_lu_11 (LeakyReLU)  (None, 909)               0         \n",
            "                                                                 \n",
            " dense_17 (Dense)            (None, 1000)              910000    \n",
            "                                                                 \n",
            "=================================================================\n",
            "Total params: 1,733,384\n",
            "Trainable params: 1,729,900\n",
            "Non-trainable params: 3,484\n",
            "_________________________________________________________________\n"
          ]
        }
      ]
    },
    {
      "cell_type": "code",
      "source": [
        "from keras import backend\n",
        "#loss_func\n",
        "def wasserstein_loss(true, pred):\n",
        "  return backend.mean(true * pred)\n",
        "\n",
        "#kernel_constraint\n",
        "class DiscConstraint(keras.constraints.Constraint):\n",
        "  def __init__(self, ref):\n",
        "    self.ref = ref\n",
        "  def __call__(self, weight):\n",
        "    return backend.clip(weight, -self.ref, self.ref)\n",
        "  def get_config(self):\n",
        "    return {'ref_value': self.ref}"
      ],
      "metadata": {
        "id": "dIDZg2TWvilf"
      },
      "execution_count": 19,
      "outputs": []
    },
    {
      "cell_type": "code",
      "source": [
        "#Implement Discriminator\n",
        "discriminator = Sequential(name='discriminator')\n",
        "discriminator.add(keras.layers.InputLayer((1000, hp.num_channels + hp.num_classes)))\n",
        "\n",
        "discriminator.add(Dense(var_data.shape[1]//2, kernel_constraint = DiscConstraint(0.01)))\n",
        "discriminator.add(BatchNormalization())\n",
        "discriminator.add(LeakyReLU(alpha=hp.alpha))\n",
        "discriminator.add(Dense(var_data.shape[1]//3, kernel_constraint = DiscConstraint(0.01)))\n",
        "discriminator.add(BatchNormalization())\n",
        "discriminator.add(LeakyReLU(alpha=hp.alpha))\n",
        "discriminator.add(Dense(1, activation = 'linear'))\n",
        "opt = keras.optimizers.Adam(learning_rate=hp.d_lr)\n",
        "discriminator.compile(optimizer=opt, loss=wasserstein_loss)\n",
        "#Set discriminator to non-trainable\n",
        "discriminator.trainable = False"
      ],
      "metadata": {
        "id": "bY-MUAzvXyR7"
      },
      "execution_count": 80,
      "outputs": []
    },
    {
      "cell_type": "code",
      "source": [
        "discriminator.summary()"
      ],
      "metadata": {
        "colab": {
          "base_uri": "https://localhost:8080/"
        },
        "id": "sOzbmd7MDvmF",
        "outputId": "5660b0d8-0968-4cfe-88aa-e503569381fc"
      },
      "execution_count": 81,
      "outputs": [
        {
          "output_type": "stream",
          "name": "stdout",
          "text": [
            "Model: \"discriminator\"\n",
            "_________________________________________________________________\n",
            " Layer (type)                Output Shape              Param #   \n",
            "=================================================================\n",
            " dense_18 (Dense)            (None, 1000, 500)         3500      \n",
            "                                                                 \n",
            " batch_normalization_6 (Batc  (None, 1000, 500)        2000      \n",
            " hNormalization)                                                 \n",
            "                                                                 \n",
            " leaky_re_lu_12 (LeakyReLU)  (None, 1000, 500)         0         \n",
            "                                                                 \n",
            " dense_19 (Dense)            (None, 1000, 333)         166833    \n",
            "                                                                 \n",
            " batch_normalization_7 (Batc  (None, 1000, 333)        1332      \n",
            " hNormalization)                                                 \n",
            "                                                                 \n",
            " leaky_re_lu_13 (LeakyReLU)  (None, 1000, 333)         0         \n",
            "                                                                 \n",
            " dense_20 (Dense)            (None, 1000, 1)           334       \n",
            "                                                                 \n",
            "=================================================================\n",
            "Total params: 173,999\n",
            "Trainable params: 0\n",
            "Non-trainable params: 173,999\n",
            "_________________________________________________________________\n"
          ]
        }
      ]
    },
    {
      "cell_type": "code",
      "source": [
        "#Implement Conditional GAN\n",
        "cgan = Sequential()\n",
        "cgan.add(generator)\n",
        "cgan.add(discriminator)\n",
        "g_opt = keras.optimizers.Adam(learning_rate=hp.g_lr)\n",
        "cgan.compile(optimizer=g_opt, loss=wasserstein_loss)"
      ],
      "metadata": {
        "id": "XE85mdKrZXrN"
      },
      "execution_count": 29,
      "outputs": []
    },
    {
      "cell_type": "code",
      "source": [
        "epoch = 200\n",
        "batch_size = 32\n",
        "batch = var_data.shape[0]//batch_size\n",
        "\n",
        "loss_func = keras.losses.BinaryCrossentropy(from_logits=True)\n",
        "\n",
        "d1_losses = []\n",
        "d2_losses = []\n",
        "g_losses = []\n",
        "\n",
        "with tf.device('/device:GPU:0'):\n",
        "\n",
        "  for e in range(epoch):\n",
        "    for b in tqdm(range(batch)):\n",
        "      \n",
        "      #################\n",
        "      #Make real samples\n",
        "      #################\n",
        "      random_pick = np.random.randint(0, var_data.shape[0], batch_size)\n",
        "      #1. variant data\n",
        "      var_data_real = var_data.iloc[random_pick] #batch data of variant data\n",
        "      var_data_real = tf.cast(var_data_real, dtype=tf.float32) #make into float32 data (initially int64)\n",
        "      var_data_real = tf.expand_dims(var_data_real, axis = -1) #add extra dimension\n",
        "      \n",
        "      #2. label data\n",
        "      label_real = labels[random_pick] #batch data of label data\n",
        "      real_one_hot_labels = label_real[:, None]\n",
        "      real_one_hot_labels = tf.repeat(real_one_hot_labels, repeats=[1000])\n",
        "      real_one_hot_labels = tf.reshape(\n",
        "              real_one_hot_labels, (-1, 1000, hp.num_classes) #prepare labels to be concat with variant data.\n",
        "              )\n",
        "      real_one_hot_labels = tf.squeeze(real_one_hot_labels)\n",
        "\n",
        "      #3. concat variant data with labels\n",
        "      real_labelled_data = tf.concat([var_data_real, real_one_hot_labels], -1)\n",
        "\n",
        "      #################\n",
        "      #Make fake samples\n",
        "      #################\n",
        "      #4. prepare fake data\n",
        "      latent_data = tf.random.normal(shape=(batch_size, hp.latent_size)) \n",
        "      latent_labelled_data = tf.concat([latent_data, label_real], axis=1)\n",
        "\n",
        "      #5. generated fake data\n",
        "      artificial_trained_data = generator.predict_on_batch(latent_labelled_data)\n",
        "      artificial_trained_data = tf.expand_dims(artificial_trained_data, axis = -1)\n",
        "      artificial_labelled_data = tf.concat([artificial_trained_data, real_one_hot_labels], axis=-1)\n",
        "\n",
        "      #################\n",
        "      #Train discriminator multiple times\n",
        "      #################\n",
        "      discriminator.trainable = True\n",
        "      d1_loss_tmp, d2_loss_tmp = [], []\n",
        "      for i in range(10):\n",
        "          real, fake = -tf.ones((batch_size, 1)), tf.ones((batch_size, 1))\n",
        "          dr_loss = discriminator.train_on_batch(real_labelled_data, real)\n",
        "          df_loss = discriminator.train_on_batch(artificial_labelled_data, fake)\n",
        "          d1_loss_tmp.append(dr_loss)\n",
        "          d2_loss_tmp.append(df_loss)\n",
        "      \n",
        "      d1_losses.append(np.mean(d1_loss_tmp))\n",
        "      d2_losses.append(np.mean(d2_loss_tmp))\n",
        "\n",
        "      #################\n",
        "      #Train whole GAN\n",
        "      #################\n",
        "\n",
        "      discriminator.trainable = False\n",
        "\n",
        "      #Get latent space + misleading fake labels\n",
        "      latent_data_gan = tf.random.normal(shape=(batch_size, hp.latent_size)) \n",
        "      latent_labelled_data_gan = tf.concat([latent_data_gan, label_real], axis=1)\n",
        "      fake_misleading = -tf.ones((batch_size, 1))\n",
        "      #train whole gan\n",
        "      artificial_trained_data = generator.predict_on_batch(latent_labelled_data_gan)\n",
        "      artificial_trained_data = tf.expand_dims(artificial_trained_data, axis = -1)\n",
        "      artificial_labelled_data = tf.concat([artificial_trained_data, real_one_hot_labels], axis=-1)\n",
        "      g_loss = discriminator.train_on_batch(artificial_labelled_data, fake_misleading)\n",
        "\n",
        "      g_losses.append(g_loss)\n",
        "\n",
        "    #save models at checkpoint\n",
        "    if e+1 % 100 == 0 and e != 0:\n",
        "      save_mod(generator, discriminator, str(e), folder='/content/drive/MyDrive/artificial_genome_project/cgan_models/string_models/')\n",
        "    elif e == range(epoch):\n",
        "      save_mod(generator, discriminator, str(e), folder='/content/drive/MyDrive/artificial_genome_project/cgan_models/string_models/')"
      ],
      "metadata": {
        "id": "EHqTZbKs_JLJ",
        "colab": {
          "base_uri": "https://localhost:8080/"
        },
        "outputId": "db11ae2a-7dbf-4e17-c2ce-f24971873312"
      },
      "execution_count": 41,
      "outputs": [
        {
          "output_type": "stream",
          "name": "stderr",
          "text": [
            "100%|██████████| 159/159 [01:39<00:00,  1.60it/s]\n",
            "100%|██████████| 159/159 [01:33<00:00,  1.69it/s]\n",
            "100%|██████████| 159/159 [01:30<00:00,  1.76it/s]\n",
            "100%|██████████| 159/159 [01:29<00:00,  1.77it/s]\n",
            "100%|██████████| 159/159 [01:31<00:00,  1.73it/s]\n",
            "100%|██████████| 159/159 [01:33<00:00,  1.69it/s]\n",
            "100%|██████████| 159/159 [01:34<00:00,  1.69it/s]\n",
            "100%|██████████| 159/159 [01:34<00:00,  1.69it/s]\n",
            "100%|██████████| 159/159 [01:34<00:00,  1.69it/s]\n",
            "100%|██████████| 159/159 [01:34<00:00,  1.68it/s]\n",
            "100%|██████████| 159/159 [01:33<00:00,  1.70it/s]\n",
            "100%|██████████| 159/159 [01:33<00:00,  1.70it/s]\n",
            "100%|██████████| 159/159 [01:34<00:00,  1.68it/s]\n",
            "100%|██████████| 159/159 [01:33<00:00,  1.69it/s]\n",
            "100%|██████████| 159/159 [01:33<00:00,  1.70it/s]\n",
            "100%|██████████| 159/159 [01:32<00:00,  1.72it/s]\n",
            "100%|██████████| 159/159 [01:29<00:00,  1.78it/s]\n",
            "100%|██████████| 159/159 [01:29<00:00,  1.77it/s]\n",
            "100%|██████████| 159/159 [01:29<00:00,  1.77it/s]\n",
            "100%|██████████| 159/159 [01:28<00:00,  1.79it/s]\n",
            "100%|██████████| 159/159 [01:28<00:00,  1.79it/s]\n",
            "100%|██████████| 159/159 [01:29<00:00,  1.78it/s]\n",
            "100%|██████████| 159/159 [01:28<00:00,  1.79it/s]\n",
            "100%|██████████| 159/159 [01:31<00:00,  1.74it/s]\n",
            "100%|██████████| 159/159 [01:29<00:00,  1.78it/s]\n",
            "100%|██████████| 159/159 [01:29<00:00,  1.78it/s]\n",
            "100%|██████████| 159/159 [01:28<00:00,  1.79it/s]\n",
            "100%|██████████| 159/159 [01:28<00:00,  1.79it/s]\n",
            "100%|██████████| 159/159 [01:28<00:00,  1.79it/s]\n",
            "100%|██████████| 159/159 [01:29<00:00,  1.77it/s]\n",
            "100%|██████████| 159/159 [01:28<00:00,  1.79it/s]\n",
            "100%|██████████| 159/159 [01:28<00:00,  1.79it/s]\n",
            "100%|██████████| 159/159 [01:28<00:00,  1.79it/s]\n",
            "100%|██████████| 159/159 [01:28<00:00,  1.79it/s]\n",
            "100%|██████████| 159/159 [01:29<00:00,  1.78it/s]\n",
            "100%|██████████| 159/159 [01:29<00:00,  1.78it/s]\n",
            "100%|██████████| 159/159 [01:29<00:00,  1.78it/s]\n",
            "100%|██████████| 159/159 [01:29<00:00,  1.78it/s]\n",
            "100%|██████████| 159/159 [01:28<00:00,  1.80it/s]\n",
            "100%|██████████| 159/159 [01:28<00:00,  1.79it/s]\n",
            "100%|██████████| 159/159 [01:29<00:00,  1.78it/s]\n",
            "100%|██████████| 159/159 [01:28<00:00,  1.79it/s]\n",
            "100%|██████████| 159/159 [01:29<00:00,  1.78it/s]\n",
            "100%|██████████| 159/159 [01:28<00:00,  1.79it/s]\n",
            "100%|██████████| 159/159 [01:29<00:00,  1.78it/s]\n",
            "100%|██████████| 159/159 [01:28<00:00,  1.79it/s]\n",
            "100%|██████████| 159/159 [01:28<00:00,  1.79it/s]\n",
            "100%|██████████| 159/159 [01:29<00:00,  1.78it/s]\n",
            "100%|██████████| 159/159 [01:29<00:00,  1.78it/s]\n",
            "100%|██████████| 159/159 [01:29<00:00,  1.79it/s]\n",
            "100%|██████████| 159/159 [01:29<00:00,  1.79it/s]\n",
            "100%|██████████| 159/159 [01:28<00:00,  1.79it/s]\n",
            "100%|██████████| 159/159 [01:28<00:00,  1.79it/s]\n",
            "100%|██████████| 159/159 [01:28<00:00,  1.79it/s]\n",
            "100%|██████████| 159/159 [01:29<00:00,  1.78it/s]\n",
            "100%|██████████| 159/159 [01:28<00:00,  1.79it/s]\n",
            "100%|██████████| 159/159 [01:29<00:00,  1.79it/s]\n",
            "100%|██████████| 159/159 [01:29<00:00,  1.78it/s]\n",
            "100%|██████████| 159/159 [01:29<00:00,  1.78it/s]\n",
            "100%|██████████| 159/159 [01:28<00:00,  1.79it/s]\n",
            "100%|██████████| 159/159 [01:31<00:00,  1.74it/s]\n",
            "100%|██████████| 159/159 [01:29<00:00,  1.78it/s]\n",
            "100%|██████████| 159/159 [01:29<00:00,  1.78it/s]\n",
            "100%|██████████| 159/159 [01:29<00:00,  1.78it/s]\n",
            "100%|██████████| 159/159 [01:29<00:00,  1.78it/s]\n",
            "100%|██████████| 159/159 [01:29<00:00,  1.78it/s]\n",
            "100%|██████████| 159/159 [01:29<00:00,  1.78it/s]\n",
            "100%|██████████| 159/159 [01:29<00:00,  1.78it/s]\n",
            "100%|██████████| 159/159 [01:29<00:00,  1.78it/s]\n",
            "100%|██████████| 159/159 [01:29<00:00,  1.78it/s]\n",
            "100%|██████████| 159/159 [01:29<00:00,  1.78it/s]\n",
            "100%|██████████| 159/159 [01:29<00:00,  1.77it/s]\n",
            "100%|██████████| 159/159 [01:29<00:00,  1.78it/s]\n",
            "100%|██████████| 159/159 [01:28<00:00,  1.79it/s]\n",
            "100%|██████████| 159/159 [01:29<00:00,  1.78it/s]\n",
            "100%|██████████| 159/159 [01:28<00:00,  1.79it/s]\n",
            "100%|██████████| 159/159 [01:28<00:00,  1.79it/s]\n",
            "100%|██████████| 159/159 [01:29<00:00,  1.78it/s]\n",
            "100%|██████████| 159/159 [01:29<00:00,  1.78it/s]\n",
            "100%|██████████| 159/159 [01:29<00:00,  1.78it/s]\n",
            "100%|██████████| 159/159 [01:29<00:00,  1.78it/s]\n",
            "100%|██████████| 159/159 [01:29<00:00,  1.78it/s]\n",
            "100%|██████████| 159/159 [01:29<00:00,  1.79it/s]\n",
            "100%|██████████| 159/159 [01:28<00:00,  1.79it/s]\n",
            "100%|██████████| 159/159 [01:28<00:00,  1.79it/s]\n",
            "100%|██████████| 159/159 [01:29<00:00,  1.78it/s]\n",
            "100%|██████████| 159/159 [01:29<00:00,  1.77it/s]\n",
            "100%|██████████| 159/159 [01:29<00:00,  1.78it/s]\n",
            "100%|██████████| 159/159 [01:29<00:00,  1.77it/s]\n",
            "100%|██████████| 159/159 [01:29<00:00,  1.77it/s]\n",
            "100%|██████████| 159/159 [01:29<00:00,  1.78it/s]\n",
            "100%|██████████| 159/159 [01:29<00:00,  1.78it/s]\n",
            "100%|██████████| 159/159 [01:29<00:00,  1.77it/s]\n",
            "100%|██████████| 159/159 [01:29<00:00,  1.78it/s]\n",
            "100%|██████████| 159/159 [01:29<00:00,  1.78it/s]\n",
            "100%|██████████| 159/159 [01:29<00:00,  1.78it/s]\n",
            "100%|██████████| 159/159 [01:29<00:00,  1.78it/s]\n",
            "100%|██████████| 159/159 [01:29<00:00,  1.78it/s]\n",
            "100%|██████████| 159/159 [01:29<00:00,  1.78it/s]\n",
            "100%|██████████| 159/159 [01:29<00:00,  1.77it/s]\n",
            "100%|██████████| 159/159 [01:30<00:00,  1.76it/s]"
          ]
        },
        {
          "output_type": "stream",
          "name": "stdout",
          "text": [
            "WARNING:tensorflow:Compiled the loaded model, but the compiled metrics have yet to be built. `model.compile_metrics` will be empty until you train or evaluate the model.\n"
          ]
        },
        {
          "output_type": "stream",
          "name": "stderr",
          "text": [
            "\n"
          ]
        },
        {
          "output_type": "stream",
          "name": "stdout",
          "text": [
            "INFO:tensorflow:Assets written to: /content/drive/MyDrive/artificial_genome_project/cgan_models/string_models/100_generator/assets\n",
            "INFO:tensorflow:Assets written to: /content/drive/MyDrive/artificial_genome_project/cgan_models/string_models/100_discriminator/assets\n"
          ]
        },
        {
          "output_type": "stream",
          "name": "stderr",
          "text": [
            "100%|██████████| 159/159 [01:30<00:00,  1.77it/s]\n",
            "100%|██████████| 159/159 [01:30<00:00,  1.75it/s]\n",
            "100%|██████████| 159/159 [01:30<00:00,  1.76it/s]\n",
            "100%|██████████| 159/159 [01:29<00:00,  1.77it/s]\n",
            "100%|██████████| 159/159 [01:29<00:00,  1.78it/s]\n",
            "100%|██████████| 159/159 [01:30<00:00,  1.77it/s]\n",
            "100%|██████████| 159/159 [01:29<00:00,  1.78it/s]\n",
            "100%|██████████| 159/159 [01:29<00:00,  1.78it/s]\n",
            "100%|██████████| 159/159 [01:29<00:00,  1.78it/s]\n",
            "100%|██████████| 159/159 [01:29<00:00,  1.78it/s]\n",
            "100%|██████████| 159/159 [01:28<00:00,  1.79it/s]\n",
            "100%|██████████| 159/159 [01:29<00:00,  1.78it/s]\n",
            "100%|██████████| 159/159 [01:29<00:00,  1.78it/s]\n",
            "100%|██████████| 159/159 [01:29<00:00,  1.77it/s]\n",
            "100%|██████████| 159/159 [01:29<00:00,  1.78it/s]\n",
            "100%|██████████| 159/159 [01:29<00:00,  1.78it/s]\n",
            "100%|██████████| 159/159 [01:29<00:00,  1.78it/s]\n",
            "100%|██████████| 159/159 [01:29<00:00,  1.78it/s]\n",
            "100%|██████████| 159/159 [01:29<00:00,  1.77it/s]\n",
            "100%|██████████| 159/159 [01:30<00:00,  1.76it/s]\n",
            "100%|██████████| 159/159 [01:30<00:00,  1.76it/s]\n",
            "100%|██████████| 159/159 [01:30<00:00,  1.76it/s]\n",
            "100%|██████████| 159/159 [01:30<00:00,  1.75it/s]\n",
            "100%|██████████| 159/159 [01:30<00:00,  1.76it/s]\n",
            "100%|██████████| 159/159 [01:29<00:00,  1.77it/s]\n",
            "100%|██████████| 159/159 [01:29<00:00,  1.78it/s]\n",
            "100%|██████████| 159/159 [01:29<00:00,  1.78it/s]\n",
            "100%|██████████| 159/159 [01:29<00:00,  1.78it/s]\n",
            "100%|██████████| 159/159 [01:29<00:00,  1.78it/s]\n",
            "100%|██████████| 159/159 [01:29<00:00,  1.78it/s]\n",
            "100%|██████████| 159/159 [01:29<00:00,  1.78it/s]\n",
            "100%|██████████| 159/159 [01:29<00:00,  1.78it/s]\n",
            "100%|██████████| 159/159 [01:29<00:00,  1.78it/s]\n",
            "100%|██████████| 159/159 [01:29<00:00,  1.77it/s]\n",
            "100%|██████████| 159/159 [01:29<00:00,  1.77it/s]\n",
            "100%|██████████| 159/159 [01:29<00:00,  1.77it/s]\n",
            "100%|██████████| 159/159 [01:29<00:00,  1.77it/s]\n",
            "100%|██████████| 159/159 [01:29<00:00,  1.77it/s]\n",
            "100%|██████████| 159/159 [01:29<00:00,  1.78it/s]\n",
            "100%|██████████| 159/159 [01:29<00:00,  1.77it/s]\n",
            "100%|██████████| 159/159 [01:30<00:00,  1.76it/s]\n",
            "100%|██████████| 159/159 [01:32<00:00,  1.71it/s]\n",
            "100%|██████████| 159/159 [01:31<00:00,  1.74it/s]\n",
            "100%|██████████| 159/159 [01:31<00:00,  1.73it/s]\n",
            "100%|██████████| 159/159 [01:31<00:00,  1.74it/s]\n",
            "100%|██████████| 159/159 [01:31<00:00,  1.74it/s]\n",
            "100%|██████████| 159/159 [01:31<00:00,  1.74it/s]\n",
            "100%|██████████| 159/159 [01:31<00:00,  1.74it/s]\n",
            "100%|██████████| 159/159 [01:32<00:00,  1.73it/s]\n",
            "100%|██████████| 159/159 [01:31<00:00,  1.73it/s]\n",
            "100%|██████████| 159/159 [01:31<00:00,  1.73it/s]\n",
            "100%|██████████| 159/159 [01:31<00:00,  1.73it/s]\n",
            "100%|██████████| 159/159 [01:32<00:00,  1.72it/s]\n",
            "100%|██████████| 159/159 [01:32<00:00,  1.72it/s]\n",
            "100%|██████████| 159/159 [01:31<00:00,  1.73it/s]\n",
            "100%|██████████| 159/159 [01:31<00:00,  1.74it/s]\n",
            "100%|██████████| 159/159 [01:30<00:00,  1.75it/s]\n",
            "100%|██████████| 159/159 [01:30<00:00,  1.76it/s]\n",
            "100%|██████████| 159/159 [01:30<00:00,  1.76it/s]\n",
            "100%|██████████| 159/159 [01:30<00:00,  1.75it/s]\n",
            "100%|██████████| 159/159 [01:31<00:00,  1.74it/s]\n",
            "100%|██████████| 159/159 [01:31<00:00,  1.74it/s]\n",
            "100%|██████████| 159/159 [01:30<00:00,  1.76it/s]\n",
            "100%|██████████| 159/159 [01:30<00:00,  1.76it/s]\n",
            "100%|██████████| 159/159 [01:30<00:00,  1.75it/s]\n",
            "100%|██████████| 159/159 [01:30<00:00,  1.75it/s]\n",
            "100%|██████████| 159/159 [01:30<00:00,  1.75it/s]\n",
            "100%|██████████| 159/159 [01:30<00:00,  1.75it/s]\n",
            "100%|██████████| 159/159 [01:30<00:00,  1.75it/s]\n",
            "100%|██████████| 159/159 [01:31<00:00,  1.74it/s]\n",
            "100%|██████████| 159/159 [01:30<00:00,  1.75it/s]\n",
            "100%|██████████| 159/159 [01:30<00:00,  1.75it/s]\n",
            "100%|██████████| 159/159 [01:31<00:00,  1.74it/s]\n",
            "100%|██████████| 159/159 [01:32<00:00,  1.72it/s]\n",
            "100%|██████████| 159/159 [01:31<00:00,  1.75it/s]\n",
            "100%|██████████| 159/159 [01:30<00:00,  1.76it/s]\n",
            "100%|██████████| 159/159 [01:30<00:00,  1.75it/s]\n",
            "100%|██████████| 159/159 [01:30<00:00,  1.75it/s]\n",
            "100%|██████████| 159/159 [01:30<00:00,  1.75it/s]\n",
            "100%|██████████| 159/159 [01:30<00:00,  1.76it/s]\n",
            "100%|██████████| 159/159 [01:30<00:00,  1.77it/s]\n",
            "100%|██████████| 159/159 [01:30<00:00,  1.76it/s]\n",
            "100%|██████████| 159/159 [01:30<00:00,  1.76it/s]\n",
            "100%|██████████| 159/159 [01:29<00:00,  1.77it/s]\n",
            "100%|██████████| 159/159 [01:30<00:00,  1.76it/s]\n",
            "100%|██████████| 159/159 [01:30<00:00,  1.75it/s]\n",
            "100%|██████████| 159/159 [01:30<00:00,  1.75it/s]\n",
            "100%|██████████| 159/159 [01:31<00:00,  1.75it/s]\n",
            "100%|██████████| 159/159 [01:30<00:00,  1.77it/s]\n",
            "100%|██████████| 159/159 [01:29<00:00,  1.77it/s]\n",
            "100%|██████████| 159/159 [01:29<00:00,  1.77it/s]\n",
            "100%|██████████| 159/159 [01:30<00:00,  1.76it/s]\n",
            "100%|██████████| 159/159 [01:30<00:00,  1.76it/s]\n",
            "100%|██████████| 159/159 [01:30<00:00,  1.76it/s]\n",
            "100%|██████████| 159/159 [01:30<00:00,  1.75it/s]\n",
            "100%|██████████| 159/159 [01:30<00:00,  1.76it/s]\n",
            "100%|██████████| 159/159 [01:30<00:00,  1.75it/s]\n",
            "100%|██████████| 159/159 [01:30<00:00,  1.75it/s]\n",
            "100%|██████████| 159/159 [01:30<00:00,  1.76it/s]\n"
          ]
        }
      ]
    },
    {
      "cell_type": "code",
      "source": [
        "save_mod(generator, discriminator, str(e))"
      ],
      "metadata": {
        "colab": {
          "base_uri": "https://localhost:8080/"
        },
        "id": "UY52FCGt3Z62",
        "outputId": "01850e30-4c3a-4b52-8e1b-2b24010cc4b9"
      },
      "execution_count": 42,
      "outputs": [
        {
          "output_type": "stream",
          "name": "stdout",
          "text": [
            "WARNING:tensorflow:Compiled the loaded model, but the compiled metrics have yet to be built. `model.compile_metrics` will be empty until you train or evaluate the model.\n",
            "INFO:tensorflow:Assets written to: /content/drive/MyDrive/artificial_genome_project/cgan_models/199_generator/assets\n",
            "INFO:tensorflow:Assets written to: /content/drive/MyDrive/artificial_genome_project/cgan_models/199_discriminator/assets\n"
          ]
        }
      ]
    },
    {
      "cell_type": "code",
      "source": [
        "plt.plot(g_losses, label='generator_losses')\n",
        "plt.plot(d1_losses, label='d1_losses')\n",
        "plt.legend()\n",
        "plt.xlabel('Iterations (epoch * batch)')\n",
        "plt.ylabel('Loss')\n",
        "plt.show()"
      ],
      "metadata": {
        "colab": {
          "base_uri": "https://localhost:8080/",
          "height": 290
        },
        "id": "oG33UFRdHqZ3",
        "outputId": "20c110f2-ba5e-4d39-e437-b224323265bf"
      },
      "execution_count": 79,
      "outputs": [
        {
          "output_type": "display_data",
          "data": {
            "text/plain": [
              "<Figure size 432x288 with 1 Axes>"
            ],
            "image/png": "[encoded data removed]"
          },
          "metadata": {
            "needs_background": "light"
          }
        }
      ]
    },
    {
      "cell_type": "markdown",
      "source": [
        "---"
      ],
      "metadata": {
        "id": "XQLweYSM1aL7"
      }
    },
    {
      "cell_type": "code",
      "source": [
        "# create artificial genome dataset\n",
        "generator_model_filepath = '/content/drive/MyDrive/artificial_genome_project/cgan_models/10_generator/'\n",
        "generator = tf.keras.models.load_model(generator_model_filepath)\n",
        "\n",
        "num_classes = hp.num_classes #num classes\n",
        "\n",
        "# latent data\n",
        "ag_num = 100\n",
        "latent_samples = np.random.normal(loc=0, scale=1, size=(ag_num, hp.latent_size+hp.num_classes,))\n",
        "generated_genomes = generator.predict(latent_samples)\n",
        "\n",
        "for class_idx in range(num_classes):\n",
        "    label = keras.utils.to_categorical([class_idx], num_classes)\n",
        "    label = label[:, None]\n",
        "    label = tf.repeat(label, repeats=[ag_num])\n",
        "    label = tf.reshape(\n",
        "            label, (-1, ag_num, hp.num_classes) #prepare labels to be concat with variant data.\n",
        "            )\n",
        "    label = tf.squeeze(label)\n",
        "    label = tf.cast(label, tf.float32)\n",
        "\n",
        "    latent_data = tf.random.normal(shape=(ag_num, hp.latent_size)) \n",
        "    latent_labels = tf.concat([latent_data, label], axis=1)\n",
        "\n",
        "    artificial_data = generator.predict(latent_labels)\n",
        "    artificial_data_df = pd.DataFrame(artificial_data)\n",
        "\n",
        "    artificial_data_df.to_csv('/content/drive/MyDrive/artificial_genome_project/artificial_data/artificial_genome_'+str(class_idx)+'.csv', index=False)"
      ],
      "metadata": {
        "colab": {
          "base_uri": "https://localhost:8080/"
        },
        "id": "0vjxVkl-oIkf",
        "outputId": "5d96f21a-38d6-4466-fb3b-7da5db69ef9d"
      },
      "execution_count": null,
      "outputs": [
        {
          "output_type": "stream",
          "name": "stdout",
          "text": [
            "WARNING:tensorflow:No training configuration found in save file, so the model was *not* compiled. Compile it manually.\n"
          ]
        }
      ]
    },
    {
      "cell_type": "code",
      "source": [
        "tf.keras.utils.plot_model(discriminator, show_shapes=True, show_layer_activations=True)"
      ],
      "metadata": {
        "colab": {
          "base_uri": "https://localhost:8080/",
          "height": 865
        },
        "id": "BpFi9RFKEeh4",
        "outputId": "7a26a8f0-44f0-4168-8301-03a7a9df71e6"
      },
      "execution_count": 77,
      "outputs": [
        {
          "output_type": "execute_result",
          "data": {
            "text/plain": [
              "<IPython.core.display.Image object>"
            ],
            "image/png": "[encoded data removed]"
          },
          "metadata": {},
          "execution_count": 77
        }
      ]
    },
    {
      "cell_type": "markdown",
      "source": [
        "---"
      ],
      "metadata": {
        "id": "ykL0GhXRXuPL"
      }
    }
  ]
}