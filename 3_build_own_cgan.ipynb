{
  "nbformat": 4,
  "nbformat_minor": 0,
  "metadata": {
    "colab": {
      "name": "3.build_own_cgan.ipynb",
      "provenance": [],
      "mount_file_id": "1Knf14tFCOmTbKaou6zj0qCLlpVEB-OwB",
      "authorship_tag": "ABX9TyMso2kiqBae8gyCAfmZoYLx",
      "include_colab_link": true
    },
    "kernelspec": {
      "name": "python3",
      "display_name": "Python 3"
    },
    "language_info": {
      "name": "python"
    }
  },
  "cells": [
    {
      "cell_type": "markdown",
      "metadata": {
        "id": "view-in-github",
        "colab_type": "text"
      },
      "source": [
        "<a href=\"https://colab.research.google.com/github/yutaro-tanaka-yt2705/ag-cgan/blob/main/3_build_own_cgan.ipynb\" target=\"_parent\"><img src=\"https://colab.research.google.com/assets/colab-badge.svg\" alt=\"Open In Colab\"/></a>"
      ]
    },
    {
      "cell_type": "code",
      "execution_count": 1,
      "metadata": {
        "id": "hOwSHhdxck_8"
      },
      "outputs": [],
      "source": [
        "#Import our common libraries\n",
        "import pandas as pd\n",
        "import numpy as np\n",
        "from tqdm import tqdm\n",
        "import matplotlib.pyplot as plt\n",
        "import gzip\n",
        "import sys\n",
        "import warnings"
      ]
    },
    {
      "cell_type": "code",
      "source": [
        "#Import our DL libraries\n",
        "import tensorflow as tf\n",
        "import tensorflow.keras as keras\n",
        "from tensorflow.keras import regularizers, layers\n",
        "import tensorflow.keras.backend as K\n",
        "from tensorflow.keras.layers import Input, Dense, Activation, LeakyReLU, BatchNormalization\n",
        "from tensorflow.keras.models import Sequential, load_model, save_model, model_from_json\n",
        "from tensorflow.keras.optimizers import Adam\n",
        "from sklearn.model_selection import train_test_split\n",
        "from torch.optim import Adam\n",
        "import torch.cuda as cuda\n",
        "import torch.nn as nn\n",
        "import torch\n",
        "from torch.distributions import Normal"
      ],
      "metadata": {
        "id": "G5rCvGvddbXj"
      },
      "execution_count": 2,
      "outputs": []
    },
    {
      "cell_type": "code",
      "source": [
        "#Saving model\n",
        "def save_mod(g, d, epo,folder='/content/drive/MyDrive/artificial_genome_project/cgan_models/'):\n",
        "    discriminator.trainable = True\n",
        "    save_model(g, folder+str(epo)+\"_generator\")\n",
        "    save_model(d,folder+str(epo)+\"_discriminator\")"
      ],
      "metadata": {
        "id": "BEB8HF1Lj0Od"
      },
      "execution_count": 127,
      "outputs": []
    },
    {
      "cell_type": "code",
      "source": [
        "#Import our data\n",
        "data = pd.read_csv('/content/drive/MyDrive/artificial_genome_project/test_dataset.csv')\n",
        "data.head()"
      ],
      "metadata": {
        "colab": {
          "base_uri": "https://localhost:8080/",
          "height": 299
        },
        "id": "b4NHribkddeh",
        "outputId": "d78db519-470c-4a1f-cefd-f1849170ae83"
      },
      "execution_count": 3,
      "outputs": [
        {
          "output_type": "execute_result",
          "data": {
            "text/plain": [
              "        ID pair  X_1343510_CA_C  X_2464340_G_A  X_844565_T_G  X_1443587_C_T  \\\n",
              "0  HG00096    A               0              0             0              1   \n",
              "1  HG00096    B               0              0             1              1   \n",
              "2  HG00097    A               0              0             1              1   \n",
              "3  HG00097    B               0              0             1              1   \n",
              "4  HG00099    A               0              0             1              1   \n",
              "\n",
              "   X_846946_A_G  X_155783945_C_T  X_2348441_C_T  X_1495791_C_G  ...  \\\n",
              "0             0                1              1              1  ...   \n",
              "1             1                1              0              1  ...   \n",
              "2             1                1              0              1  ...   \n",
              "3             0                1              0              0  ...   \n",
              "4             1                1              0              0  ...   \n",
              "\n",
              "   X_1494541_A_G  X_1494970_G_A  X_2272724_A_C  X_2441570_T_C  X_1420810_T_C  \\\n",
              "0              0              0              1              0              0   \n",
              "1              0              0              1              0              0   \n",
              "2              0              0              0              0              1   \n",
              "3              0              0              1              0              0   \n",
              "4              0              0              1              1              1   \n",
              "\n",
              "   X_719380_A_G  X_1115457_A_G  X_2449045_T_C  X_1165297_A_G  population_code  \n",
              "0             0              0              0              1             10.0  \n",
              "1             0              1              0              0             10.0  \n",
              "2             0              0              0              0             10.0  \n",
              "3             0              0              1              0             10.0  \n",
              "4             0              0              1              0             10.0  \n",
              "\n",
              "[5 rows x 1003 columns]"
            ],
            "text/html": [
              "\n",
              "  <div id=\"df-ac1e18ab-d034-40f6-9fa4-6a80f8ad5172\">\n",
              "    <div class=\"colab-df-container\">\n",
              "      <div>\n",
              "<style scoped>\n",
              "    .dataframe tbody tr th:only-of-type {\n",
              "        vertical-align: middle;\n",
              "    }\n",
              "\n",
              "    .dataframe tbody tr th {\n",
              "        vertical-align: top;\n",
              "    }\n",
              "\n",
              "    .dataframe thead th {\n",
              "        text-align: right;\n",
              "    }\n",
              "</style>\n",
              "<table border=\"1\" class=\"dataframe\">\n",
              "  <thead>\n",
              "    <tr style=\"text-align: right;\">\n",
              "      <th></th>\n",
              "      <th>ID</th>\n",
              "      <th>pair</th>\n",
              "      <th>X_1343510_CA_C</th>\n",
              "      <th>X_2464340_G_A</th>\n",
              "      <th>X_844565_T_G</th>\n",
              "      <th>X_1443587_C_T</th>\n",
              "      <th>X_846946_A_G</th>\n",
              "      <th>X_155783945_C_T</th>\n",
              "      <th>X_2348441_C_T</th>\n",
              "      <th>X_1495791_C_G</th>\n",
              "      <th>...</th>\n",
              "      <th>X_1494541_A_G</th>\n",
              "      <th>X_1494970_G_A</th>\n",
              "      <th>X_2272724_A_C</th>\n",
              "      <th>X_2441570_T_C</th>\n",
              "      <th>X_1420810_T_C</th>\n",
              "      <th>X_719380_A_G</th>\n",
              "      <th>X_1115457_A_G</th>\n",
              "      <th>X_2449045_T_C</th>\n",
              "      <th>X_1165297_A_G</th>\n",
              "      <th>population_code</th>\n",
              "    </tr>\n",
              "  </thead>\n",
              "  <tbody>\n",
              "    <tr>\n",
              "      <th>0</th>\n",
              "      <td>HG00096</td>\n",
              "      <td>A</td>\n",
              "      <td>0</td>\n",
              "      <td>0</td>\n",
              "      <td>0</td>\n",
              "      <td>1</td>\n",
              "      <td>0</td>\n",
              "      <td>1</td>\n",
              "      <td>1</td>\n",
              "      <td>1</td>\n",
              "      <td>...</td>\n",
              "      <td>0</td>\n",
              "      <td>0</td>\n",
              "      <td>1</td>\n",
              "      <td>0</td>\n",
              "      <td>0</td>\n",
              "      <td>0</td>\n",
              "      <td>0</td>\n",
              "      <td>0</td>\n",
              "      <td>1</td>\n",
              "      <td>10.0</td>\n",
              "    </tr>\n",
              "    <tr>\n",
              "      <th>1</th>\n",
              "      <td>HG00096</td>\n",
              "      <td>B</td>\n",
              "      <td>0</td>\n",
              "      <td>0</td>\n",
              "      <td>1</td>\n",
              "      <td>1</td>\n",
              "      <td>1</td>\n",
              "      <td>1</td>\n",
              "      <td>0</td>\n",
              "      <td>1</td>\n",
              "      <td>...</td>\n",
              "      <td>0</td>\n",
              "      <td>0</td>\n",
              "      <td>1</td>\n",
              "      <td>0</td>\n",
              "      <td>0</td>\n",
              "      <td>0</td>\n",
              "      <td>1</td>\n",
              "      <td>0</td>\n",
              "      <td>0</td>\n",
              "      <td>10.0</td>\n",
              "    </tr>\n",
              "    <tr>\n",
              "      <th>2</th>\n",
              "      <td>HG00097</td>\n",
              "      <td>A</td>\n",
              "      <td>0</td>\n",
              "      <td>0</td>\n",
              "      <td>1</td>\n",
              "      <td>1</td>\n",
              "      <td>1</td>\n",
              "      <td>1</td>\n",
              "      <td>0</td>\n",
              "      <td>1</td>\n",
              "      <td>...</td>\n",
              "      <td>0</td>\n",
              "      <td>0</td>\n",
              "      <td>0</td>\n",
              "      <td>0</td>\n",
              "      <td>1</td>\n",
              "      <td>0</td>\n",
              "      <td>0</td>\n",
              "      <td>0</td>\n",
              "      <td>0</td>\n",
              "      <td>10.0</td>\n",
              "    </tr>\n",
              "    <tr>\n",
              "      <th>3</th>\n",
              "      <td>HG00097</td>\n",
              "      <td>B</td>\n",
              "      <td>0</td>\n",
              "      <td>0</td>\n",
              "      <td>1</td>\n",
              "      <td>1</td>\n",
              "      <td>0</td>\n",
              "      <td>1</td>\n",
              "      <td>0</td>\n",
              "      <td>0</td>\n",
              "      <td>...</td>\n",
              "      <td>0</td>\n",
              "      <td>0</td>\n",
              "      <td>1</td>\n",
              "      <td>0</td>\n",
              "      <td>0</td>\n",
              "      <td>0</td>\n",
              "      <td>0</td>\n",
              "      <td>1</td>\n",
              "      <td>0</td>\n",
              "      <td>10.0</td>\n",
              "    </tr>\n",
              "    <tr>\n",
              "      <th>4</th>\n",
              "      <td>HG00099</td>\n",
              "      <td>A</td>\n",
              "      <td>0</td>\n",
              "      <td>0</td>\n",
              "      <td>1</td>\n",
              "      <td>1</td>\n",
              "      <td>1</td>\n",
              "      <td>1</td>\n",
              "      <td>0</td>\n",
              "      <td>0</td>\n",
              "      <td>...</td>\n",
              "      <td>0</td>\n",
              "      <td>0</td>\n",
              "      <td>1</td>\n",
              "      <td>1</td>\n",
              "      <td>1</td>\n",
              "      <td>0</td>\n",
              "      <td>0</td>\n",
              "      <td>1</td>\n",
              "      <td>0</td>\n",
              "      <td>10.0</td>\n",
              "    </tr>\n",
              "  </tbody>\n",
              "</table>\n",
              "<p>5 rows × 1003 columns</p>\n",
              "</div>\n",
              "      <button class=\"colab-df-convert\" onclick=\"convertToInteractive('df-ac1e18ab-d034-40f6-9fa4-6a80f8ad5172')\"\n",
              "              title=\"Convert this dataframe to an interactive table.\"\n",
              "              style=\"display:none;\">\n",
              "        \n",
              "  <svg xmlns=\"http://www.w3.org/2000/svg\" height=\"24px\"viewBox=\"0 0 24 24\"\n",
              "       width=\"24px\">\n",
              "    <path d=\"M0 0h24v24H0V0z\" fill=\"none\"/>\n",
              "    <path d=\"M18.56 5.44l.94 2.06.94-2.06 2.06-.94-2.06-.94-.94-2.06-.94 2.06-2.06.94zm-11 1L8.5 8.5l.94-2.06 2.06-.94-2.06-.94L8.5 2.5l-.94 2.06-2.06.94zm10 10l.94 2.06.94-2.06 2.06-.94-2.06-.94-.94-2.06-.94 2.06-2.06.94z\"/><path d=\"M17.41 7.96l-1.37-1.37c-.4-.4-.92-.59-1.43-.59-.52 0-1.04.2-1.43.59L10.3 9.45l-7.72 7.72c-.78.78-.78 2.05 0 2.83L4 21.41c.39.39.9.59 1.41.59.51 0 1.02-.2 1.41-.59l7.78-7.78 2.81-2.81c.8-.78.8-2.07 0-2.86zM5.41 20L4 18.59l7.72-7.72 1.47 1.35L5.41 20z\"/>\n",
              "  </svg>\n",
              "      </button>\n",
              "      \n",
              "  <style>\n",
              "    .colab-df-container {\n",
              "      display:flex;\n",
              "      flex-wrap:wrap;\n",
              "      gap: 12px;\n",
              "    }\n",
              "\n",
              "    .colab-df-convert {\n",
              "      background-color: #E8F0FE;\n",
              "      border: none;\n",
              "      border-radius: 50%;\n",
              "      cursor: pointer;\n",
              "      display: none;\n",
              "      fill: #1967D2;\n",
              "      height: 32px;\n",
              "      padding: 0 0 0 0;\n",
              "      width: 32px;\n",
              "    }\n",
              "\n",
              "    .colab-df-convert:hover {\n",
              "      background-color: #E2EBFA;\n",
              "      box-shadow: 0px 1px 2px rgba(60, 64, 67, 0.3), 0px 1px 3px 1px rgba(60, 64, 67, 0.15);\n",
              "      fill: #174EA6;\n",
              "    }\n",
              "\n",
              "    [theme=dark] .colab-df-convert {\n",
              "      background-color: #3B4455;\n",
              "      fill: #D2E3FC;\n",
              "    }\n",
              "\n",
              "    [theme=dark] .colab-df-convert:hover {\n",
              "      background-color: #434B5C;\n",
              "      box-shadow: 0px 1px 3px 1px rgba(0, 0, 0, 0.15);\n",
              "      filter: drop-shadow(0px 1px 2px rgba(0, 0, 0, 0.3));\n",
              "      fill: #FFFFFF;\n",
              "    }\n",
              "  </style>\n",
              "\n",
              "      <script>\n",
              "        const buttonEl =\n",
              "          document.querySelector('#df-ac1e18ab-d034-40f6-9fa4-6a80f8ad5172 button.colab-df-convert');\n",
              "        buttonEl.style.display =\n",
              "          google.colab.kernel.accessAllowed ? 'block' : 'none';\n",
              "\n",
              "        async function convertToInteractive(key) {\n",
              "          const element = document.querySelector('#df-ac1e18ab-d034-40f6-9fa4-6a80f8ad5172');\n",
              "          const dataTable =\n",
              "            await google.colab.kernel.invokeFunction('convertToInteractive',\n",
              "                                                     [key], {});\n",
              "          if (!dataTable) return;\n",
              "\n",
              "          const docLinkHtml = 'Like what you see? Visit the ' +\n",
              "            '<a target=\"_blank\" href=https://colab.research.google.com/notebooks/data_table.ipynb>data table notebook</a>'\n",
              "            + ' to learn more about interactive tables.';\n",
              "          element.innerHTML = '';\n",
              "          dataTable['output_type'] = 'display_data';\n",
              "          await google.colab.output.renderOutput(dataTable, element);\n",
              "          const docLink = document.createElement('div');\n",
              "          docLink.innerHTML = docLinkHtml;\n",
              "          element.appendChild(docLink);\n",
              "        }\n",
              "      </script>\n",
              "    </div>\n",
              "  </div>\n",
              "  "
            ]
          },
          "metadata": {},
          "execution_count": 3
        }
      ]
    },
    {
      "cell_type": "code",
      "source": [
        "var_data = data.iloc[:, 2:-1] #training data\n",
        "labels = keras.utils.to_categorical(data.population_code.tolist(), len(data.population_code.unique())) #training labels\n",
        "print(data.shape, labels.shape)"
      ],
      "metadata": {
        "colab": {
          "base_uri": "https://localhost:8080/"
        },
        "id": "6l1vmYaIVvEB",
        "outputId": "338e2a1e-2c9b-448e-a311-de211cb7e208"
      },
      "execution_count": 4,
      "outputs": [
        {
          "output_type": "stream",
          "name": "stdout",
          "text": [
            "(5096, 1003) (5096, 26)\n"
          ]
        }
      ]
    },
    {
      "cell_type": "code",
      "source": [
        "#Implement hyperparameters\n",
        "class Hyperparameter:\n",
        "    num_classes: int        = labels.shape[1]\n",
        "    num_channels: int       = 1\n",
        "    batchsize: int          = 16\n",
        "    num_epochs: int         = 20\n",
        "    latent_size: int        = 64\n",
        "    n_critic: int           = 5\n",
        "    critic_size: int        = 1024\n",
        "    generator_size: int     = 1024\n",
        "    critic_hidden_size: int = 1024\n",
        "    gp_lambda: float        = 10.\n",
        "    alpha: int              = 0.01\n",
        "    d_lr: float             = 0.008\n",
        "    g_lr: float             = 0.008\n",
        "        \n",
        "hp = Hyperparameter()"
      ],
      "metadata": {
        "id": "URZ7WOV3e7r5"
      },
      "execution_count": 87,
      "outputs": []
    },
    {
      "cell_type": "code",
      "source": [
        "#Implement dataset\n",
        "dataset = tf.data.Dataset.from_tensor_slices((var_data, labels))\n",
        "#dataset = dataset.shuffle(buffer_size=10).batch(hp.batchsize)"
      ],
      "metadata": {
        "id": "zw0e2QrYvN88"
      },
      "execution_count": 6,
      "outputs": []
    },
    {
      "cell_type": "code",
      "source": [
        "for e in dataset:\n",
        "  print(e[0].shape, e[1].shape)\n",
        "  break"
      ],
      "metadata": {
        "colab": {
          "base_uri": "https://localhost:8080/"
        },
        "id": "zaKFhS-3xWyM",
        "outputId": "2d91057c-531b-414a-de74-65276a7f36ab"
      },
      "execution_count": 7,
      "outputs": [
        {
          "output_type": "stream",
          "name": "stdout",
          "text": [
            "(1000,) (26,)\n"
          ]
        }
      ]
    },
    {
      "cell_type": "code",
      "source": [
        "#Implement Generator\n",
        "generator = Sequential(name='generator')\n",
        "generator.add(keras.layers.InputLayer((hp.latent_size + hp.num_classes)))\n",
        "generator.add(Dense(int(var_data.shape[1]//1.2), kernel_regularizer=regularizers.l2(0.0001)))\n",
        "generator.add(LeakyReLU(alpha=hp.alpha))\n",
        "generator.add(Dense(int(var_data.shape[1]//1.1), kernel_regularizer=regularizers.l2(0.0001)))\n",
        "generator.add(LeakyReLU(alpha=hp.alpha))\n",
        "generator.add(Dense(var_data.shape[1], activation = 'tanh'))"
      ],
      "metadata": {
        "id": "8pU5A9egVDjF"
      },
      "execution_count": 84,
      "outputs": []
    },
    {
      "cell_type": "code",
      "source": [
        "generator.summary()"
      ],
      "metadata": {
        "colab": {
          "base_uri": "https://localhost:8080/"
        },
        "id": "K51Y151z1XXj",
        "outputId": "d6bbcf46-dd2e-4352-f4a6-90c019e06226"
      },
      "execution_count": 85,
      "outputs": [
        {
          "output_type": "stream",
          "name": "stdout",
          "text": [
            "Model: \"generator\"\n",
            "_________________________________________________________________\n",
            " Layer (type)                Output Shape              Param #   \n",
            "=================================================================\n",
            " dense_24 (Dense)            (None, 833)               75803     \n",
            "                                                                 \n",
            " leaky_re_lu_16 (LeakyReLU)  (None, 833)               0         \n",
            "                                                                 \n",
            " dense_25 (Dense)            (None, 909)               758106    \n",
            "                                                                 \n",
            " leaky_re_lu_17 (LeakyReLU)  (None, 909)               0         \n",
            "                                                                 \n",
            " dense_26 (Dense)            (None, 1000)              910000    \n",
            "                                                                 \n",
            "=================================================================\n",
            "Total params: 1,743,909\n",
            "Trainable params: 1,743,909\n",
            "Non-trainable params: 0\n",
            "_________________________________________________________________\n"
          ]
        }
      ]
    },
    {
      "cell_type": "code",
      "source": [
        "#Implement Discriminator\n",
        "discriminator = Sequential(name='discriminator')\n",
        "discriminator.add(keras.layers.InputLayer((1000, hp.num_channels + hp.num_classes)))\n",
        "discriminator.add(Dense(var_data.shape[1]//2, kernel_regularizer=regularizers.l2(0.0001)))\n",
        "discriminator.add(LeakyReLU(alpha=hp.alpha))\n",
        "discriminator.add(Dense(var_data.shape[1]//3, kernel_regularizer=regularizers.l2(0.0001)))\n",
        "discriminator.add(LeakyReLU(alpha=hp.alpha))\n",
        "discriminator.add(Dense(1, activation = 'sigmoid'))\n",
        "opt = keras.optimizers.Adam(learning_rate=hp.d_lr)\n",
        "discriminator.compile(optimizer=opt, loss='binary_crossentropy') #optimizer=Adam(learning_rate=hp.d_lr), loss='binary_crossentropy'\n",
        "#Set discriminator to non-trainable\n",
        "discriminator.trainable = False"
      ],
      "metadata": {
        "id": "bY-MUAzvXyR7"
      },
      "execution_count": 119,
      "outputs": []
    },
    {
      "cell_type": "code",
      "source": [
        "discriminator.summary()"
      ],
      "metadata": {
        "colab": {
          "base_uri": "https://localhost:8080/"
        },
        "id": "sOzbmd7MDvmF",
        "outputId": "3422c72e-4a92-4283-8ce6-34096d80d456"
      },
      "execution_count": 117,
      "outputs": [
        {
          "output_type": "stream",
          "name": "stdout",
          "text": [
            "Model: \"discriminator\"\n",
            "_________________________________________________________________\n",
            " Layer (type)                Output Shape              Param #   \n",
            "=================================================================\n",
            " dense_36 (Dense)            (None, 500)               14000     \n",
            "                                                                 \n",
            " leaky_re_lu_24 (LeakyReLU)  (None, 500)               0         \n",
            "                                                                 \n",
            " dense_37 (Dense)            (None, 333)               166833    \n",
            "                                                                 \n",
            " leaky_re_lu_25 (LeakyReLU)  (None, 333)               0         \n",
            "                                                                 \n",
            " dense_38 (Dense)            (None, 1)                 334       \n",
            "                                                                 \n",
            "=================================================================\n",
            "Total params: 181,167\n",
            "Trainable params: 0\n",
            "Non-trainable params: 181,167\n",
            "_________________________________________________________________\n"
          ]
        }
      ]
    },
    {
      "cell_type": "code",
      "source": [
        "#Implement Conditional GAN\n",
        "cgan = Sequential()\n",
        "cgan.add(generator)\n",
        "cgan.add(discriminator)\n",
        "g_opt = keras.optimizers.Adam(learning_rate=hp.g_lr)\n",
        "cgan.compile(optimizer=g_opt, loss='binary_crossentropy')"
      ],
      "metadata": {
        "id": "XE85mdKrZXrN"
      },
      "execution_count": 88,
      "outputs": []
    },
    {
      "cell_type": "code",
      "source": [
        "epoch = 20\n",
        "batch_size = 104\n",
        "batch = var_data.shape[0]//batch_size\n",
        "\n",
        "loss_func = keras.losses.BinaryCrossentropy(from_logits=True)\n",
        "d_optimizer=keras.optimizers.Adam(learning_rate=0.0003)\n",
        "g_optimizer=keras.optimizers.Adam(learning_rate=0.0003)\n",
        "\n",
        "losses = []\n",
        "\n",
        "for e in range(epoch):\n",
        "  for b in tqdm(range(batch)):\n",
        "\n",
        "    #1. variant data\n",
        "    var_data_real = var_data[b*batch_size:(b+1)*batch_size] #batch data of variant data\n",
        "    var_data_real = tf.cast(var_data_real, dtype=tf.float32) #make into float32 data (initially int64)\n",
        "    var_data_real = tf.expand_dims(var_data_real, axis = -1) #add extra dimension\n",
        "    \n",
        "    #2. label data\n",
        "    label_real = labels[b*batch_size:(b+1)*batch_size] #batch data of label data\n",
        "    real_one_hot_labels = label_real[:, None]\n",
        "    real_one_hot_labels = tf.repeat(real_one_hot_labels, repeats=[1000])\n",
        "    real_one_hot_labels = tf.reshape(\n",
        "            real_one_hot_labels, (-1, 1000, hp.num_classes) #prepare labels to be concat with variant data.\n",
        "            )\n",
        "    real_one_hot_labels = tf.squeeze(real_one_hot_labels)\n",
        "\n",
        "    #3. concat variant data with labels\n",
        "    real_labelled_data = tf.concat([var_data_real, real_one_hot_labels], -1)\n",
        "    \n",
        "    #4. prepare fake data\n",
        "    latent_data = tf.random.normal(shape=(batch_size, hp.latent_size)) \n",
        "    latent_labels = tf.concat([latent_data, label_real], axis=1)\n",
        "\n",
        "    #5. train generator on fake data\n",
        "    artificial_trained_data = generator.predict_on_batch(latent_labels)\n",
        "    artificial_trained_data = tf.expand_dims(artificial_trained_data, axis = -1)\n",
        "\n",
        "    #6. prepare real+fake training set for discriminator\n",
        "    artificial_labelled_data = tf.concat([artificial_trained_data, real_one_hot_labels], -1)\n",
        "    combined_labelled_data = tf.concat(\n",
        "        [artificial_labelled_data, real_labelled_data], axis=0\n",
        "    )\n",
        "\n",
        "    #7. make labels for real+fake data\n",
        "    rf_labels = tf.concat(\n",
        "            [tf.ones((batch_size, 1)), tf.zeros((batch_size, 1))], axis=0\n",
        "        )\n",
        "    \n",
        "    #8. train discriminator on combined dataset\n",
        "    discriminator.trainable = True\n",
        "    d_loss = discriminator.train_on_batch(combined_labelled_data, rf_labels)\n",
        "    #d_grads = tf.gradients(d_loss, discriminator.trainable_weights)\n",
        "    #d_optimizer.apply_gradients(\n",
        "    #        zip(d_grads, discriminator.trainable_weights)\n",
        "    #    )\n",
        "\n",
        "    #9. misleading labels\n",
        "    misleading_labels = tf.zeros((batch_size, 1))\n",
        "\n",
        "    #9. train cGAN\n",
        "    discriminator.trainable = False\n",
        "    with tf.GradientTape() as tape:\n",
        "        artificial_trained_data = generator(latent_labels)\n",
        "        artificial_trained_data = tf.expand_dims(artificial_trained_data, axis = -1)\n",
        "        artificial_labelled_data = tf.concat([artificial_trained_data, real_one_hot_labels], -1)\n",
        "        g_loss = discriminator(artificial_labelled_data)\n",
        "    g_grads = tape.gradient(g_loss, generator.trainable_weights)\n",
        "    g_optimizer.apply_gradients(zip(g_grads, generator.trainable_weights))\n",
        "\n",
        "    losses.append([d_loss, g_loss])\n",
        "\n",
        "  #save models at checkpoint\n",
        "  if e % 5 == 0 and e != 0:\n",
        "    save_mod(generator, discriminator, str(e))\n",
        "  elif e == range(epoch):\n",
        "    save_mod(generator, discriminator, str(e))"
      ],
      "metadata": {
        "colab": {
          "base_uri": "https://localhost:8080/",
          "height": 585
        },
        "id": "EHqTZbKs_JLJ",
        "outputId": "20ea5570-510a-47cf-ad1d-88a34ce0a96b"
      },
      "execution_count": 134,
      "outputs": [
        {
          "output_type": "stream",
          "name": "stderr",
          "text": [
            "100%|██████████| 49/49 [07:39<00:00,  9.38s/it]\n",
            "100%|██████████| 49/49 [06:15<00:00,  7.67s/it]\n",
            "100%|██████████| 49/49 [06:21<00:00,  7.78s/it]\n",
            "100%|██████████| 49/49 [06:17<00:00,  7.71s/it]\n",
            "100%|██████████| 49/49 [06:21<00:00,  7.79s/it]\n",
            "100%|██████████| 49/49 [06:18<00:00,  7.73s/it]\n",
            "100%|██████████| 49/49 [06:18<00:00,  7.73s/it]\n",
            "100%|██████████| 49/49 [06:20<00:00,  7.77s/it]\n",
            "100%|██████████| 49/49 [06:17<00:00,  7.70s/it]\n",
            "100%|██████████| 49/49 [06:17<00:00,  7.70s/it]\n",
            " 82%|████████▏ | 40/49 [05:13<01:10,  7.83s/it]\n"
          ]
        },
        {
          "output_type": "error",
          "ename": "KeyboardInterrupt",
          "evalue": "ignored",
          "traceback": [
            "\u001b[0;31m---------------------------------------------------------------------------\u001b[0m",
            "\u001b[0;31mKeyboardInterrupt\u001b[0m                         Traceback (most recent call last)",
            "\u001b[0;32m<ipython-input-134-28a48c49dfc9>\u001b[0m in \u001b[0;36m<module>\u001b[0;34m()\u001b[0m\n\u001b[1;32m     50\u001b[0m     \u001b[0;31m#8. train discriminator on combined dataset\u001b[0m\u001b[0;34m\u001b[0m\u001b[0;34m\u001b[0m\u001b[0;34m\u001b[0m\u001b[0m\n\u001b[1;32m     51\u001b[0m     \u001b[0mdiscriminator\u001b[0m\u001b[0;34m.\u001b[0m\u001b[0mtrainable\u001b[0m \u001b[0;34m=\u001b[0m \u001b[0;32mTrue\u001b[0m\u001b[0;34m\u001b[0m\u001b[0;34m\u001b[0m\u001b[0m\n\u001b[0;32m---> 52\u001b[0;31m     \u001b[0md_loss\u001b[0m \u001b[0;34m=\u001b[0m \u001b[0mdiscriminator\u001b[0m\u001b[0;34m.\u001b[0m\u001b[0mtrain_on_batch\u001b[0m\u001b[0;34m(\u001b[0m\u001b[0mcombined_labelled_data\u001b[0m\u001b[0;34m,\u001b[0m \u001b[0mrf_labels\u001b[0m\u001b[0;34m)\u001b[0m\u001b[0;34m\u001b[0m\u001b[0;34m\u001b[0m\u001b[0m\n\u001b[0m\u001b[1;32m     53\u001b[0m     \u001b[0;31m#d_grads = tf.gradients(d_loss, discriminator.trainable_weights)\u001b[0m\u001b[0;34m\u001b[0m\u001b[0;34m\u001b[0m\u001b[0;34m\u001b[0m\u001b[0m\n\u001b[1;32m     54\u001b[0m     \u001b[0;31m#d_optimizer.apply_gradients(\u001b[0m\u001b[0;34m\u001b[0m\u001b[0;34m\u001b[0m\u001b[0;34m\u001b[0m\u001b[0m\n",
            "\u001b[0;32m/usr/local/lib/python3.7/dist-packages/keras/engine/training.py\u001b[0m in \u001b[0;36mtrain_on_batch\u001b[0;34m(self, x, y, sample_weight, class_weight, reset_metrics, return_dict)\u001b[0m\n\u001b[1;32m   2091\u001b[0m                                                     class_weight)\n\u001b[1;32m   2092\u001b[0m       \u001b[0mself\u001b[0m\u001b[0;34m.\u001b[0m\u001b[0mtrain_function\u001b[0m \u001b[0;34m=\u001b[0m \u001b[0mself\u001b[0m\u001b[0;34m.\u001b[0m\u001b[0mmake_train_function\u001b[0m\u001b[0;34m(\u001b[0m\u001b[0;34m)\u001b[0m\u001b[0;34m\u001b[0m\u001b[0;34m\u001b[0m\u001b[0m\n\u001b[0;32m-> 2093\u001b[0;31m       \u001b[0mlogs\u001b[0m \u001b[0;34m=\u001b[0m \u001b[0mself\u001b[0m\u001b[0;34m.\u001b[0m\u001b[0mtrain_function\u001b[0m\u001b[0;34m(\u001b[0m\u001b[0miterator\u001b[0m\u001b[0;34m)\u001b[0m\u001b[0;34m\u001b[0m\u001b[0;34m\u001b[0m\u001b[0m\n\u001b[0m\u001b[1;32m   2094\u001b[0m \u001b[0;34m\u001b[0m\u001b[0m\n\u001b[1;32m   2095\u001b[0m     \u001b[0mlogs\u001b[0m \u001b[0;34m=\u001b[0m \u001b[0mtf_utils\u001b[0m\u001b[0;34m.\u001b[0m\u001b[0msync_to_numpy_or_python_type\u001b[0m\u001b[0;34m(\u001b[0m\u001b[0mlogs\u001b[0m\u001b[0;34m)\u001b[0m\u001b[0;34m\u001b[0m\u001b[0;34m\u001b[0m\u001b[0m\n",
            "\u001b[0;32m/usr/local/lib/python3.7/dist-packages/tensorflow/python/util/traceback_utils.py\u001b[0m in \u001b[0;36merror_handler\u001b[0;34m(*args, **kwargs)\u001b[0m\n\u001b[1;32m    148\u001b[0m     \u001b[0mfiltered_tb\u001b[0m \u001b[0;34m=\u001b[0m \u001b[0;32mNone\u001b[0m\u001b[0;34m\u001b[0m\u001b[0;34m\u001b[0m\u001b[0m\n\u001b[1;32m    149\u001b[0m     \u001b[0;32mtry\u001b[0m\u001b[0;34m:\u001b[0m\u001b[0;34m\u001b[0m\u001b[0;34m\u001b[0m\u001b[0m\n\u001b[0;32m--> 150\u001b[0;31m       \u001b[0;32mreturn\u001b[0m \u001b[0mfn\u001b[0m\u001b[0;34m(\u001b[0m\u001b[0;34m*\u001b[0m\u001b[0margs\u001b[0m\u001b[0;34m,\u001b[0m \u001b[0;34m**\u001b[0m\u001b[0mkwargs\u001b[0m\u001b[0;34m)\u001b[0m\u001b[0;34m\u001b[0m\u001b[0;34m\u001b[0m\u001b[0m\n\u001b[0m\u001b[1;32m    151\u001b[0m     \u001b[0;32mexcept\u001b[0m \u001b[0mException\u001b[0m \u001b[0;32mas\u001b[0m \u001b[0me\u001b[0m\u001b[0;34m:\u001b[0m\u001b[0;34m\u001b[0m\u001b[0;34m\u001b[0m\u001b[0m\n\u001b[1;32m    152\u001b[0m       \u001b[0mfiltered_tb\u001b[0m \u001b[0;34m=\u001b[0m \u001b[0m_process_traceback_frames\u001b[0m\u001b[0;34m(\u001b[0m\u001b[0me\u001b[0m\u001b[0;34m.\u001b[0m\u001b[0m__traceback__\u001b[0m\u001b[0;34m)\u001b[0m\u001b[0;34m\u001b[0m\u001b[0;34m\u001b[0m\u001b[0m\n",
            "\u001b[0;32m/usr/local/lib/python3.7/dist-packages/tensorflow/python/eager/def_function.py\u001b[0m in \u001b[0;36m__call__\u001b[0;34m(self, *args, **kwds)\u001b[0m\n\u001b[1;32m    913\u001b[0m \u001b[0;34m\u001b[0m\u001b[0m\n\u001b[1;32m    914\u001b[0m       \u001b[0;32mwith\u001b[0m \u001b[0mOptionalXlaContext\u001b[0m\u001b[0;34m(\u001b[0m\u001b[0mself\u001b[0m\u001b[0;34m.\u001b[0m\u001b[0m_jit_compile\u001b[0m\u001b[0;34m)\u001b[0m\u001b[0;34m:\u001b[0m\u001b[0;34m\u001b[0m\u001b[0;34m\u001b[0m\u001b[0m\n\u001b[0;32m--> 915\u001b[0;31m         \u001b[0mresult\u001b[0m \u001b[0;34m=\u001b[0m \u001b[0mself\u001b[0m\u001b[0;34m.\u001b[0m\u001b[0m_call\u001b[0m\u001b[0;34m(\u001b[0m\u001b[0;34m*\u001b[0m\u001b[0margs\u001b[0m\u001b[0;34m,\u001b[0m \u001b[0;34m**\u001b[0m\u001b[0mkwds\u001b[0m\u001b[0;34m)\u001b[0m\u001b[0;34m\u001b[0m\u001b[0;34m\u001b[0m\u001b[0m\n\u001b[0m\u001b[1;32m    916\u001b[0m \u001b[0;34m\u001b[0m\u001b[0m\n\u001b[1;32m    917\u001b[0m       \u001b[0mnew_tracing_count\u001b[0m \u001b[0;34m=\u001b[0m \u001b[0mself\u001b[0m\u001b[0;34m.\u001b[0m\u001b[0mexperimental_get_tracing_count\u001b[0m\u001b[0;34m(\u001b[0m\u001b[0;34m)\u001b[0m\u001b[0;34m\u001b[0m\u001b[0;34m\u001b[0m\u001b[0m\n",
            "\u001b[0;32m/usr/local/lib/python3.7/dist-packages/tensorflow/python/eager/def_function.py\u001b[0m in \u001b[0;36m_call\u001b[0;34m(self, *args, **kwds)\u001b[0m\n\u001b[1;32m    945\u001b[0m       \u001b[0;31m# In this case we have created variables on the first call, so we run the\u001b[0m\u001b[0;34m\u001b[0m\u001b[0;34m\u001b[0m\u001b[0;34m\u001b[0m\u001b[0m\n\u001b[1;32m    946\u001b[0m       \u001b[0;31m# defunned version which is guaranteed to never create variables.\u001b[0m\u001b[0;34m\u001b[0m\u001b[0;34m\u001b[0m\u001b[0;34m\u001b[0m\u001b[0m\n\u001b[0;32m--> 947\u001b[0;31m       \u001b[0;32mreturn\u001b[0m \u001b[0mself\u001b[0m\u001b[0;34m.\u001b[0m\u001b[0m_stateless_fn\u001b[0m\u001b[0;34m(\u001b[0m\u001b[0;34m*\u001b[0m\u001b[0margs\u001b[0m\u001b[0;34m,\u001b[0m \u001b[0;34m**\u001b[0m\u001b[0mkwds\u001b[0m\u001b[0;34m)\u001b[0m  \u001b[0;31m# pylint: disable=not-callable\u001b[0m\u001b[0;34m\u001b[0m\u001b[0;34m\u001b[0m\u001b[0m\n\u001b[0m\u001b[1;32m    948\u001b[0m     \u001b[0;32melif\u001b[0m \u001b[0mself\u001b[0m\u001b[0;34m.\u001b[0m\u001b[0m_stateful_fn\u001b[0m \u001b[0;32mis\u001b[0m \u001b[0;32mnot\u001b[0m \u001b[0;32mNone\u001b[0m\u001b[0;34m:\u001b[0m\u001b[0;34m\u001b[0m\u001b[0;34m\u001b[0m\u001b[0m\n\u001b[1;32m    949\u001b[0m       \u001b[0;31m# Release the lock early so that multiple threads can perform the call\u001b[0m\u001b[0;34m\u001b[0m\u001b[0;34m\u001b[0m\u001b[0;34m\u001b[0m\u001b[0m\n",
            "\u001b[0;32m/usr/local/lib/python3.7/dist-packages/tensorflow/python/eager/function.py\u001b[0m in \u001b[0;36m__call__\u001b[0;34m(self, *args, **kwargs)\u001b[0m\n\u001b[1;32m   2955\u001b[0m        filtered_flat_args) = self._maybe_define_function(args, kwargs)\n\u001b[1;32m   2956\u001b[0m     return graph_function._call_flat(\n\u001b[0;32m-> 2957\u001b[0;31m         filtered_flat_args, captured_inputs=graph_function.captured_inputs)  # pylint: disable=protected-access\n\u001b[0m\u001b[1;32m   2958\u001b[0m \u001b[0;34m\u001b[0m\u001b[0m\n\u001b[1;32m   2959\u001b[0m   \u001b[0;34m@\u001b[0m\u001b[0mproperty\u001b[0m\u001b[0;34m\u001b[0m\u001b[0;34m\u001b[0m\u001b[0m\n",
            "\u001b[0;32m/usr/local/lib/python3.7/dist-packages/tensorflow/python/eager/function.py\u001b[0m in \u001b[0;36m_call_flat\u001b[0;34m(self, args, captured_inputs, cancellation_manager)\u001b[0m\n\u001b[1;32m   1852\u001b[0m       \u001b[0;31m# No tape is watching; skip to running the function.\u001b[0m\u001b[0;34m\u001b[0m\u001b[0;34m\u001b[0m\u001b[0;34m\u001b[0m\u001b[0m\n\u001b[1;32m   1853\u001b[0m       return self._build_call_outputs(self._inference_function.call(\n\u001b[0;32m-> 1854\u001b[0;31m           ctx, args, cancellation_manager=cancellation_manager))\n\u001b[0m\u001b[1;32m   1855\u001b[0m     forward_backward = self._select_forward_and_backward_functions(\n\u001b[1;32m   1856\u001b[0m         \u001b[0margs\u001b[0m\u001b[0;34m,\u001b[0m\u001b[0;34m\u001b[0m\u001b[0;34m\u001b[0m\u001b[0m\n",
            "\u001b[0;32m/usr/local/lib/python3.7/dist-packages/tensorflow/python/eager/function.py\u001b[0m in \u001b[0;36mcall\u001b[0;34m(self, ctx, args, cancellation_manager)\u001b[0m\n\u001b[1;32m    502\u001b[0m               \u001b[0minputs\u001b[0m\u001b[0;34m=\u001b[0m\u001b[0margs\u001b[0m\u001b[0;34m,\u001b[0m\u001b[0;34m\u001b[0m\u001b[0;34m\u001b[0m\u001b[0m\n\u001b[1;32m    503\u001b[0m               \u001b[0mattrs\u001b[0m\u001b[0;34m=\u001b[0m\u001b[0mattrs\u001b[0m\u001b[0;34m,\u001b[0m\u001b[0;34m\u001b[0m\u001b[0;34m\u001b[0m\u001b[0m\n\u001b[0;32m--> 504\u001b[0;31m               ctx=ctx)\n\u001b[0m\u001b[1;32m    505\u001b[0m         \u001b[0;32melse\u001b[0m\u001b[0;34m:\u001b[0m\u001b[0;34m\u001b[0m\u001b[0;34m\u001b[0m\u001b[0m\n\u001b[1;32m    506\u001b[0m           outputs = execute.execute_with_cancellation(\n",
            "\u001b[0;32m/usr/local/lib/python3.7/dist-packages/tensorflow/python/eager/execute.py\u001b[0m in \u001b[0;36mquick_execute\u001b[0;34m(op_name, num_outputs, inputs, attrs, ctx, name)\u001b[0m\n\u001b[1;32m     53\u001b[0m     \u001b[0mctx\u001b[0m\u001b[0;34m.\u001b[0m\u001b[0mensure_initialized\u001b[0m\u001b[0;34m(\u001b[0m\u001b[0;34m)\u001b[0m\u001b[0;34m\u001b[0m\u001b[0;34m\u001b[0m\u001b[0m\n\u001b[1;32m     54\u001b[0m     tensors = pywrap_tfe.TFE_Py_Execute(ctx._handle, device_name, op_name,\n\u001b[0;32m---> 55\u001b[0;31m                                         inputs, attrs, num_outputs)\n\u001b[0m\u001b[1;32m     56\u001b[0m   \u001b[0;32mexcept\u001b[0m \u001b[0mcore\u001b[0m\u001b[0;34m.\u001b[0m\u001b[0m_NotOkStatusException\u001b[0m \u001b[0;32mas\u001b[0m \u001b[0me\u001b[0m\u001b[0;34m:\u001b[0m\u001b[0;34m\u001b[0m\u001b[0;34m\u001b[0m\u001b[0m\n\u001b[1;32m     57\u001b[0m     \u001b[0;32mif\u001b[0m \u001b[0mname\u001b[0m \u001b[0;32mis\u001b[0m \u001b[0;32mnot\u001b[0m \u001b[0;32mNone\u001b[0m\u001b[0;34m:\u001b[0m\u001b[0;34m\u001b[0m\u001b[0;34m\u001b[0m\u001b[0m\n",
            "\u001b[0;31mKeyboardInterrupt\u001b[0m: "
          ]
        }
      ]
    },
    {
      "cell_type": "code",
      "source": [
        "save_mod(generator, discriminator, str(e))"
      ],
      "metadata": {
        "colab": {
          "base_uri": "https://localhost:8080/"
        },
        "id": "UY52FCGt3Z62",
        "outputId": "2fd3017f-cc72-4fe1-b86f-5db25f230117"
      },
      "execution_count": 135,
      "outputs": [
        {
          "output_type": "stream",
          "name": "stdout",
          "text": [
            "WARNING:tensorflow:Compiled the loaded model, but the compiled metrics have yet to be built. `model.compile_metrics` will be empty until you train or evaluate the model.\n",
            "INFO:tensorflow:Assets written to: /content/drive/MyDrive/artificial_genome_project/cgan_models/10_generator/assets\n",
            "INFO:tensorflow:Assets written to: /content/drive/MyDrive/artificial_genome_project/cgan_models/10_discriminator/assets\n"
          ]
        }
      ]
    },
    {
      "cell_type": "markdown",
      "source": [
        "---"
      ],
      "metadata": {
        "id": "XQLweYSM1aL7"
      }
    },
    {
      "cell_type": "code",
      "source": [
        "# create artificial genome dataset\n",
        "generator_model_filepath = '/content/drive/MyDrive/artificial_genome_project/cgan_models/10_generator/'\n",
        "generator = tf.keras.models.load_model(generator_model_filepath)\n",
        "\n",
        "num_classes = hp.num_classes #num classes\n",
        "\n",
        "# latent data\n",
        "ag_num = 5096\n",
        "latent_samples = np.random.normal(loc=0, scale=1, size=(ag_num, hp.latent_size+hp.num_classes,))\n",
        "generated_genomes = generator.predict(latent_samples)\n",
        "\n",
        "for class_idx in range(num_classes):\n",
        "    label = keras.utils.to_categorical([class_idx], num_classes)\n",
        "    label = tf.cast(label, tf.float32)\n",
        "\n",
        "    latent_data = tf.random.normal(shape=(1, hp.latent_size)) \n",
        "    latent_labels = tf.concat([latent_data, label], axis=1)\n",
        "\n",
        "    artificial_data = generator.predict(latent_labels)\n",
        "    artificial_data_df = pd.DataFrame(artificial_data)\n",
        "\n",
        "    artificial_data_df.to_csv('/content/drive/MyDrive/artificial_genome_project/artificial_data/artificial_genome_'+str(class_idx)+'.csv', index=False)"
      ],
      "metadata": {
        "colab": {
          "base_uri": "https://localhost:8080/"
        },
        "id": "0vjxVkl-oIkf",
        "outputId": "fe1a3470-f9e3-4dd9-fca6-a6c2693763d7"
      },
      "execution_count": 152,
      "outputs": [
        {
          "output_type": "stream",
          "name": "stdout",
          "text": [
            "WARNING:tensorflow:No training configuration found in save file, so the model was *not* compiled. Compile it manually.\n",
            "[[ 0.08634638 -1.30001226 -0.03250633 ... -2.5616954  -0.71029846\n",
            "  -0.87103699]\n",
            " [ 0.86399583  0.10471224 -0.64411621 ...  1.45571256 -0.67694197\n",
            "  -0.69350529]\n",
            " [-0.04744259 -1.74385988  1.02609747 ...  1.59043088  0.53249881\n",
            "  -0.8916509 ]\n",
            " ...\n",
            " [-0.70786249  0.85501942  0.73050641 ...  1.20800942  0.83087506\n",
            "   1.77088756]\n",
            " [-1.62600122  0.29461643  0.87968425 ... -0.14825269  0.34599486\n",
            "  -0.22462784]\n",
            " [-0.65067024  0.34848029  0.38187589 ...  0.28980804  0.27920766\n",
            "   1.11491416]]\n",
            "(5096, 1000)\n",
            "(1, 90)\n"
          ]
        }
      ]
    },
    {
      "cell_type": "code",
      "source": [
        "tf.keras.utils.plot_model(discriminator), tf.keras.utils.plot_model(generator)"
      ],
      "metadata": {
        "colab": {
          "base_uri": "https://localhost:8080/"
        },
        "id": "BpFi9RFKEeh4",
        "outputId": "c64bf0f5-5c8a-42b2-fab5-df6469a33231"
      },
      "execution_count": 154,
      "outputs": [
        {
          "output_type": "execute_result",
          "data": {
            "text/plain": [
              "(<IPython.core.display.Image object>, <IPython.core.display.Image object>)"
            ]
          },
          "metadata": {},
          "execution_count": 154
        }
      ]
    },
    {
      "cell_type": "markdown",
      "source": [
        "---"
      ],
      "metadata": {
        "id": "ykL0GhXRXuPL"
      }
    }
  ]
}