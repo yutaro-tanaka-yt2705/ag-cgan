{
  "nbformat": 4,
  "nbformat_minor": 0,
  "metadata": {
    "colab": {
      "name": "3.build_own_cgan.ipynb",
      "provenance": [],
      "mount_file_id": "1Knf14tFCOmTbKaou6zj0qCLlpVEB-OwB",
      "authorship_tag": "ABX9TyNe4JVpkpOojlnkQeFlAvis",
      "include_colab_link": true
    },
    "kernelspec": {
      "name": "python3",
      "display_name": "Python 3"
    },
    "language_info": {
      "name": "python"
    },
    "accelerator": "GPU"
  },
  "cells": [
    {
      "cell_type": "markdown",
      "metadata": {
        "id": "view-in-github",
        "colab_type": "text"
      },
      "source": [
        "<a href=\"https://colab.research.google.com/github/yutaro-tanaka-yt2705/ag-cgan/blob/main/3_build_own_cgan.ipynb\" target=\"_parent\"><img src=\"https://colab.research.google.com/assets/colab-badge.svg\" alt=\"Open In Colab\"/></a>"
      ]
    },
    {
      "cell_type": "code",
      "execution_count": 1,
      "metadata": {
        "id": "hOwSHhdxck_8"
      },
      "outputs": [],
      "source": [
        "#Import our common libraries\n",
        "import pandas as pd\n",
        "import numpy as np\n",
        "from tqdm import tqdm\n",
        "import matplotlib.pyplot as plt\n",
        "import gzip\n",
        "import sys\n",
        "import warnings"
      ]
    },
    {
      "cell_type": "code",
      "source": [
        "#Import our DL libraries\n",
        "import tensorflow as tf\n",
        "import tensorflow.keras as keras\n",
        "from tensorflow.keras import regularizers, layers\n",
        "import tensorflow.keras.backend as K\n",
        "from tensorflow.keras.layers import Input, Dense, Activation, LeakyReLU, BatchNormalization, GlobalMaxPooling1D\n",
        "from tensorflow.keras.models import Sequential, load_model, save_model, model_from_json\n",
        "from tensorflow.keras.optimizers import Adam\n",
        "from sklearn.model_selection import train_test_split\n",
        "from torch.optim import Adam\n",
        "import torch.cuda as cuda\n",
        "import torch.nn as nn\n",
        "import torch\n",
        "from torch.distributions import Normal\n",
        "######################################\n",
        "device_name = tf.test.gpu_device_name()\n",
        "if device_name != '/device:GPU:0':\n",
        "  print('Check GPU')"
      ],
      "metadata": {
        "id": "G5rCvGvddbXj"
      },
      "execution_count": 2,
      "outputs": []
    },
    {
      "cell_type": "code",
      "source": [
        "#Saving model\n",
        "def save_mod(g, d, epo,folder='/content/drive/MyDrive/artificial_genome_project/cgan_models/'):\n",
        "    discriminator.trainable = True\n",
        "    save_model(g, folder+str(epo)+\"_generator\")\n",
        "    save_model(d,folder+str(epo)+\"_discriminator\")"
      ],
      "metadata": {
        "id": "BEB8HF1Lj0Od"
      },
      "execution_count": 3,
      "outputs": []
    },
    {
      "cell_type": "code",
      "source": [
        "#Import our data\n",
        "data = pd.read_csv('/content/drive/MyDrive/artificial_genome_project/test_dataset.csv')\n",
        "data.head()"
      ],
      "metadata": {
        "colab": {
          "base_uri": "https://localhost:8080/",
          "height": 299
        },
        "id": "b4NHribkddeh",
        "outputId": "f2369229-18f3-4cb2-8c21-3b0b40957b06"
      },
      "execution_count": 4,
      "outputs": [
        {
          "output_type": "execute_result",
          "data": {
            "text/plain": [
              "        ID pair  X_1343510_CA_C  X_2464340_G_A  X_844565_T_G  X_1443587_C_T  \\\n",
              "0  HG00096    A               0              0             0              1   \n",
              "1  HG00096    B               0              0             1              1   \n",
              "2  HG00097    A               0              0             1              1   \n",
              "3  HG00097    B               0              0             1              1   \n",
              "4  HG00099    A               0              0             1              1   \n",
              "\n",
              "   X_846946_A_G  X_155783945_C_T  X_2348441_C_T  X_1495791_C_G  ...  \\\n",
              "0             0                1              1              1  ...   \n",
              "1             1                1              0              1  ...   \n",
              "2             1                1              0              1  ...   \n",
              "3             0                1              0              0  ...   \n",
              "4             1                1              0              0  ...   \n",
              "\n",
              "   X_1494970_G_A  X_2272724_A_C  X_2441570_T_C  X_1420810_T_C  X_719380_A_G  \\\n",
              "0              0              1              0              0             0   \n",
              "1              0              1              0              0             0   \n",
              "2              0              0              0              1             0   \n",
              "3              0              1              0              0             0   \n",
              "4              0              1              1              1             0   \n",
              "\n",
              "   X_1115457_A_G  X_2449045_T_C  X_1165297_A_G  population_code  suppop_code  \n",
              "0              0              0              1             10.0          3.0  \n",
              "1              1              0              0             10.0          3.0  \n",
              "2              0              0              0             10.0          3.0  \n",
              "3              0              1              0             10.0          3.0  \n",
              "4              0              1              0             10.0          3.0  \n",
              "\n",
              "[5 rows x 1004 columns]"
            ],
            "text/html": [
              "\n",
              "  <div id=\"df-2e1364e0-61fb-412a-95ed-899cc166b560\">\n",
              "    <div class=\"colab-df-container\">\n",
              "      <div>\n",
              "<style scoped>\n",
              "    .dataframe tbody tr th:only-of-type {\n",
              "        vertical-align: middle;\n",
              "    }\n",
              "\n",
              "    .dataframe tbody tr th {\n",
              "        vertical-align: top;\n",
              "    }\n",
              "\n",
              "    .dataframe thead th {\n",
              "        text-align: right;\n",
              "    }\n",
              "</style>\n",
              "<table border=\"1\" class=\"dataframe\">\n",
              "  <thead>\n",
              "    <tr style=\"text-align: right;\">\n",
              "      <th></th>\n",
              "      <th>ID</th>\n",
              "      <th>pair</th>\n",
              "      <th>X_1343510_CA_C</th>\n",
              "      <th>X_2464340_G_A</th>\n",
              "      <th>X_844565_T_G</th>\n",
              "      <th>X_1443587_C_T</th>\n",
              "      <th>X_846946_A_G</th>\n",
              "      <th>X_155783945_C_T</th>\n",
              "      <th>X_2348441_C_T</th>\n",
              "      <th>X_1495791_C_G</th>\n",
              "      <th>...</th>\n",
              "      <th>X_1494970_G_A</th>\n",
              "      <th>X_2272724_A_C</th>\n",
              "      <th>X_2441570_T_C</th>\n",
              "      <th>X_1420810_T_C</th>\n",
              "      <th>X_719380_A_G</th>\n",
              "      <th>X_1115457_A_G</th>\n",
              "      <th>X_2449045_T_C</th>\n",
              "      <th>X_1165297_A_G</th>\n",
              "      <th>population_code</th>\n",
              "      <th>suppop_code</th>\n",
              "    </tr>\n",
              "  </thead>\n",
              "  <tbody>\n",
              "    <tr>\n",
              "      <th>0</th>\n",
              "      <td>HG00096</td>\n",
              "      <td>A</td>\n",
              "      <td>0</td>\n",
              "      <td>0</td>\n",
              "      <td>0</td>\n",
              "      <td>1</td>\n",
              "      <td>0</td>\n",
              "      <td>1</td>\n",
              "      <td>1</td>\n",
              "      <td>1</td>\n",
              "      <td>...</td>\n",
              "      <td>0</td>\n",
              "      <td>1</td>\n",
              "      <td>0</td>\n",
              "      <td>0</td>\n",
              "      <td>0</td>\n",
              "      <td>0</td>\n",
              "      <td>0</td>\n",
              "      <td>1</td>\n",
              "      <td>10.0</td>\n",
              "      <td>3.0</td>\n",
              "    </tr>\n",
              "    <tr>\n",
              "      <th>1</th>\n",
              "      <td>HG00096</td>\n",
              "      <td>B</td>\n",
              "      <td>0</td>\n",
              "      <td>0</td>\n",
              "      <td>1</td>\n",
              "      <td>1</td>\n",
              "      <td>1</td>\n",
              "      <td>1</td>\n",
              "      <td>0</td>\n",
              "      <td>1</td>\n",
              "      <td>...</td>\n",
              "      <td>0</td>\n",
              "      <td>1</td>\n",
              "      <td>0</td>\n",
              "      <td>0</td>\n",
              "      <td>0</td>\n",
              "      <td>1</td>\n",
              "      <td>0</td>\n",
              "      <td>0</td>\n",
              "      <td>10.0</td>\n",
              "      <td>3.0</td>\n",
              "    </tr>\n",
              "    <tr>\n",
              "      <th>2</th>\n",
              "      <td>HG00097</td>\n",
              "      <td>A</td>\n",
              "      <td>0</td>\n",
              "      <td>0</td>\n",
              "      <td>1</td>\n",
              "      <td>1</td>\n",
              "      <td>1</td>\n",
              "      <td>1</td>\n",
              "      <td>0</td>\n",
              "      <td>1</td>\n",
              "      <td>...</td>\n",
              "      <td>0</td>\n",
              "      <td>0</td>\n",
              "      <td>0</td>\n",
              "      <td>1</td>\n",
              "      <td>0</td>\n",
              "      <td>0</td>\n",
              "      <td>0</td>\n",
              "      <td>0</td>\n",
              "      <td>10.0</td>\n",
              "      <td>3.0</td>\n",
              "    </tr>\n",
              "    <tr>\n",
              "      <th>3</th>\n",
              "      <td>HG00097</td>\n",
              "      <td>B</td>\n",
              "      <td>0</td>\n",
              "      <td>0</td>\n",
              "      <td>1</td>\n",
              "      <td>1</td>\n",
              "      <td>0</td>\n",
              "      <td>1</td>\n",
              "      <td>0</td>\n",
              "      <td>0</td>\n",
              "      <td>...</td>\n",
              "      <td>0</td>\n",
              "      <td>1</td>\n",
              "      <td>0</td>\n",
              "      <td>0</td>\n",
              "      <td>0</td>\n",
              "      <td>0</td>\n",
              "      <td>1</td>\n",
              "      <td>0</td>\n",
              "      <td>10.0</td>\n",
              "      <td>3.0</td>\n",
              "    </tr>\n",
              "    <tr>\n",
              "      <th>4</th>\n",
              "      <td>HG00099</td>\n",
              "      <td>A</td>\n",
              "      <td>0</td>\n",
              "      <td>0</td>\n",
              "      <td>1</td>\n",
              "      <td>1</td>\n",
              "      <td>1</td>\n",
              "      <td>1</td>\n",
              "      <td>0</td>\n",
              "      <td>0</td>\n",
              "      <td>...</td>\n",
              "      <td>0</td>\n",
              "      <td>1</td>\n",
              "      <td>1</td>\n",
              "      <td>1</td>\n",
              "      <td>0</td>\n",
              "      <td>0</td>\n",
              "      <td>1</td>\n",
              "      <td>0</td>\n",
              "      <td>10.0</td>\n",
              "      <td>3.0</td>\n",
              "    </tr>\n",
              "  </tbody>\n",
              "</table>\n",
              "<p>5 rows × 1004 columns</p>\n",
              "</div>\n",
              "      <button class=\"colab-df-convert\" onclick=\"convertToInteractive('df-2e1364e0-61fb-412a-95ed-899cc166b560')\"\n",
              "              title=\"Convert this dataframe to an interactive table.\"\n",
              "              style=\"display:none;\">\n",
              "        \n",
              "  <svg xmlns=\"http://www.w3.org/2000/svg\" height=\"24px\"viewBox=\"0 0 24 24\"\n",
              "       width=\"24px\">\n",
              "    <path d=\"M0 0h24v24H0V0z\" fill=\"none\"/>\n",
              "    <path d=\"M18.56 5.44l.94 2.06.94-2.06 2.06-.94-2.06-.94-.94-2.06-.94 2.06-2.06.94zm-11 1L8.5 8.5l.94-2.06 2.06-.94-2.06-.94L8.5 2.5l-.94 2.06-2.06.94zm10 10l.94 2.06.94-2.06 2.06-.94-2.06-.94-.94-2.06-.94 2.06-2.06.94z\"/><path d=\"M17.41 7.96l-1.37-1.37c-.4-.4-.92-.59-1.43-.59-.52 0-1.04.2-1.43.59L10.3 9.45l-7.72 7.72c-.78.78-.78 2.05 0 2.83L4 21.41c.39.39.9.59 1.41.59.51 0 1.02-.2 1.41-.59l7.78-7.78 2.81-2.81c.8-.78.8-2.07 0-2.86zM5.41 20L4 18.59l7.72-7.72 1.47 1.35L5.41 20z\"/>\n",
              "  </svg>\n",
              "      </button>\n",
              "      \n",
              "  <style>\n",
              "    .colab-df-container {\n",
              "      display:flex;\n",
              "      flex-wrap:wrap;\n",
              "      gap: 12px;\n",
              "    }\n",
              "\n",
              "    .colab-df-convert {\n",
              "      background-color: #E8F0FE;\n",
              "      border: none;\n",
              "      border-radius: 50%;\n",
              "      cursor: pointer;\n",
              "      display: none;\n",
              "      fill: #1967D2;\n",
              "      height: 32px;\n",
              "      padding: 0 0 0 0;\n",
              "      width: 32px;\n",
              "    }\n",
              "\n",
              "    .colab-df-convert:hover {\n",
              "      background-color: #E2EBFA;\n",
              "      box-shadow: 0px 1px 2px rgba(60, 64, 67, 0.3), 0px 1px 3px 1px rgba(60, 64, 67, 0.15);\n",
              "      fill: #174EA6;\n",
              "    }\n",
              "\n",
              "    [theme=dark] .colab-df-convert {\n",
              "      background-color: #3B4455;\n",
              "      fill: #D2E3FC;\n",
              "    }\n",
              "\n",
              "    [theme=dark] .colab-df-convert:hover {\n",
              "      background-color: #434B5C;\n",
              "      box-shadow: 0px 1px 3px 1px rgba(0, 0, 0, 0.15);\n",
              "      filter: drop-shadow(0px 1px 2px rgba(0, 0, 0, 0.3));\n",
              "      fill: #FFFFFF;\n",
              "    }\n",
              "  </style>\n",
              "\n",
              "      <script>\n",
              "        const buttonEl =\n",
              "          document.querySelector('#df-2e1364e0-61fb-412a-95ed-899cc166b560 button.colab-df-convert');\n",
              "        buttonEl.style.display =\n",
              "          google.colab.kernel.accessAllowed ? 'block' : 'none';\n",
              "\n",
              "        async function convertToInteractive(key) {\n",
              "          const element = document.querySelector('#df-2e1364e0-61fb-412a-95ed-899cc166b560');\n",
              "          const dataTable =\n",
              "            await google.colab.kernel.invokeFunction('convertToInteractive',\n",
              "                                                     [key], {});\n",
              "          if (!dataTable) return;\n",
              "\n",
              "          const docLinkHtml = 'Like what you see? Visit the ' +\n",
              "            '<a target=\"_blank\" href=https://colab.research.google.com/notebooks/data_table.ipynb>data table notebook</a>'\n",
              "            + ' to learn more about interactive tables.';\n",
              "          element.innerHTML = '';\n",
              "          dataTable['output_type'] = 'display_data';\n",
              "          await google.colab.output.renderOutput(dataTable, element);\n",
              "          const docLink = document.createElement('div');\n",
              "          docLink.innerHTML = docLinkHtml;\n",
              "          element.appendChild(docLink);\n",
              "        }\n",
              "      </script>\n",
              "    </div>\n",
              "  </div>\n",
              "  "
            ]
          },
          "metadata": {},
          "execution_count": 4
        }
      ]
    },
    {
      "cell_type": "code",
      "source": [
        "var_data = data.iloc[:, 2:-2] #training data\n",
        "#labels = keras.utils.to_categorical(data.population_code.tolist(), len(data.population_code.unique())) #training labels\n",
        "labels = keras.utils.to_categorical(data.suppop_code.tolist(), len(data.suppop_code.unique())) #superpopulation labels\n",
        "print(var_data.shape, labels.shape)"
      ],
      "metadata": {
        "colab": {
          "base_uri": "https://localhost:8080/"
        },
        "id": "6l1vmYaIVvEB",
        "outputId": "5bd5e283-3ba9-41e2-b580-37a6c21708a3"
      },
      "execution_count": 5,
      "outputs": [
        {
          "output_type": "stream",
          "name": "stdout",
          "text": [
            "(5096, 1000) (5096, 5)\n"
          ]
        }
      ]
    },
    {
      "cell_type": "code",
      "source": [
        "#Implement hyperparameters\n",
        "class Hyperparameter:\n",
        "    num_classes: int        = labels.shape[1]\n",
        "    num_channels: int       = 1\n",
        "    batchsize: int          = 16\n",
        "    num_epochs: int         = 20\n",
        "    latent_size: int        = 64\n",
        "    n_critic: int           = 5\n",
        "    critic_size: int        = 1024\n",
        "    generator_size: int     = 1024\n",
        "    critic_hidden_size: int = 1024\n",
        "    gp_lambda: float        = 10.\n",
        "    alpha: int              = 0.01\n",
        "    d_lr: float             = 0.008\n",
        "    g_lr: float             = 0.008\n",
        "        \n",
        "hp = Hyperparameter()"
      ],
      "metadata": {
        "id": "URZ7WOV3e7r5"
      },
      "execution_count": 6,
      "outputs": []
    },
    {
      "cell_type": "code",
      "source": [
        "#Implement dataset\n",
        "dataset = tf.data.Dataset.from_tensor_slices((var_data, labels))\n",
        "#dataset = dataset.shuffle(buffer_size=10).batch(hp.batchsize)"
      ],
      "metadata": {
        "id": "zw0e2QrYvN88"
      },
      "execution_count": 7,
      "outputs": []
    },
    {
      "cell_type": "code",
      "source": [
        "for e in dataset:\n",
        "  print(e[0].shape, e[1].shape)\n",
        "  break"
      ],
      "metadata": {
        "colab": {
          "base_uri": "https://localhost:8080/"
        },
        "id": "zaKFhS-3xWyM",
        "outputId": "5c6a5e45-a78c-4459-cb79-f228bb017d62"
      },
      "execution_count": null,
      "outputs": [
        {
          "output_type": "stream",
          "name": "stdout",
          "text": [
            "(1000,) (5,)\n"
          ]
        }
      ]
    },
    {
      "cell_type": "code",
      "source": [
        "#Implement Generator\n",
        "generator = Sequential(name='generator')\n",
        "generator.add(keras.layers.InputLayer((hp.latent_size + hp.num_classes)))\n",
        "generator.add(Dense(int(var_data.shape[1]//1.2), kernel_regularizer=regularizers.l2(0.0001)))\n",
        "generator.add(LeakyReLU(alpha=hp.alpha))\n",
        "generator.add(Dense(int(var_data.shape[1]//1.1), kernel_regularizer=regularizers.l2(0.0001)))\n",
        "generator.add(LeakyReLU(alpha=hp.alpha))\n",
        "generator.add(Dense(var_data.shape[1], activation = 'tanh'))\n",
        "g_optimizer = keras.optimizers.Adam(learning_rate=0.0003)\n",
        "generator.compile(optimizer=g_optimizer, loss='binary_crossentropy')"
      ],
      "metadata": {
        "id": "8pU5A9egVDjF"
      },
      "execution_count": null,
      "outputs": []
    },
    {
      "cell_type": "code",
      "source": [
        "generator.summary()"
      ],
      "metadata": {
        "colab": {
          "base_uri": "https://localhost:8080/"
        },
        "id": "K51Y151z1XXj",
        "outputId": "4a240070-921c-4406-ae7c-69ecebd46395"
      },
      "execution_count": null,
      "outputs": [
        {
          "output_type": "stream",
          "name": "stdout",
          "text": [
            "Model: \"generator\"\n",
            "_________________________________________________________________\n",
            " Layer (type)                Output Shape              Param #   \n",
            "=================================================================\n",
            " dense (Dense)               (None, 833)               58310     \n",
            "                                                                 \n",
            " leaky_re_lu (LeakyReLU)     (None, 833)               0         \n",
            "                                                                 \n",
            " dense_1 (Dense)             (None, 909)               758106    \n",
            "                                                                 \n",
            " leaky_re_lu_1 (LeakyReLU)   (None, 909)               0         \n",
            "                                                                 \n",
            " dense_2 (Dense)             (None, 1000)              910000    \n",
            "                                                                 \n",
            "=================================================================\n",
            "Total params: 1,726,416\n",
            "Trainable params: 1,726,416\n",
            "Non-trainable params: 0\n",
            "_________________________________________________________________\n"
          ]
        }
      ]
    },
    {
      "cell_type": "code",
      "source": [
        "#Implement Discriminator\n",
        "discriminator = Sequential(name='discriminator')\n",
        "discriminator.add(keras.layers.InputLayer((1000, hp.num_channels + hp.num_classes)))\n",
        "discriminator.add(Dense(var_data.shape[1]//2, kernel_regularizer=regularizers.l2(0.0001)))\n",
        "discriminator.add(LeakyReLU(alpha=hp.alpha))\n",
        "discriminator.add(Dense(var_data.shape[1]//3, kernel_regularizer=regularizers.l2(0.0001)))\n",
        "discriminator.add(LeakyReLU(alpha=hp.alpha))\n",
        "discriminator.add(GlobalMaxPooling1D())\n",
        "discriminator.add(Dense(1, activation = 'sigmoid'))\n",
        "d_optimizer = keras.optimizers.Adam(learning_rate=0.0003)\n",
        "discriminator.compile(optimizer=d_optimizer, loss='binary_crossentropy')\n",
        "discriminator.trainable = False"
      ],
      "metadata": {
        "id": "bY-MUAzvXyR7"
      },
      "execution_count": null,
      "outputs": []
    },
    {
      "cell_type": "code",
      "source": [
        "discriminator.summary()"
      ],
      "metadata": {
        "colab": {
          "base_uri": "https://localhost:8080/"
        },
        "id": "sOzbmd7MDvmF",
        "outputId": "5d36221f-98ef-4d7f-e634-9a6072a92ce7"
      },
      "execution_count": null,
      "outputs": [
        {
          "output_type": "stream",
          "name": "stdout",
          "text": [
            "Model: \"discriminator\"\n",
            "_________________________________________________________________\n",
            " Layer (type)                Output Shape              Param #   \n",
            "=================================================================\n",
            " dense_3 (Dense)             (None, 1000, 500)         3500      \n",
            "                                                                 \n",
            " leaky_re_lu_2 (LeakyReLU)   (None, 1000, 500)         0         \n",
            "                                                                 \n",
            " dense_4 (Dense)             (None, 1000, 333)         166833    \n",
            "                                                                 \n",
            " leaky_re_lu_3 (LeakyReLU)   (None, 1000, 333)         0         \n",
            "                                                                 \n",
            " global_max_pooling1d (Globa  (None, 333)              0         \n",
            " lMaxPooling1D)                                                  \n",
            "                                                                 \n",
            " dense_5 (Dense)             (None, 1)                 334       \n",
            "                                                                 \n",
            "=================================================================\n",
            "Total params: 170,667\n",
            "Trainable params: 0\n",
            "Non-trainable params: 170,667\n",
            "_________________________________________________________________\n"
          ]
        }
      ]
    },
    {
      "cell_type": "code",
      "source": [
        "#Implement Conditional GAN\n",
        "cgan = Sequential()\n",
        "cgan.add(generator)\n",
        "cgan.add(discriminator)\n",
        "g_opt = keras.optimizers.Adam(learning_rate=hp.g_lr)\n",
        "cgan.compile(optimizer=g_opt, loss='binary_crossentropy')"
      ],
      "metadata": {
        "id": "XE85mdKrZXrN"
      },
      "execution_count": null,
      "outputs": []
    },
    {
      "cell_type": "code",
      "source": [
        "epoch = 200\n",
        "batch_size = hp.batchsize\n",
        "batch = var_data.shape[0]//batch_size\n",
        "\n",
        "loss_func = keras.losses.BinaryCrossentropy(from_logits=True)\n",
        "\n",
        "losses = []\n",
        "with tf.device('/device:GPU:0'):\n",
        "\n",
        "  for e in range(epoch):\n",
        "      for b in tqdm(range(batch)):\n",
        "\n",
        "        #1. variant data\n",
        "        var_data_real = var_data[b*batch_size:(b+1)*batch_size] #batch data of variant data\n",
        "        var_data_real = tf.cast(var_data_real, dtype=tf.float32) #make into float32 data (initially int64)\n",
        "        var_data_real = tf.expand_dims(var_data_real, axis = -1) #add extra dimension\n",
        "        \n",
        "        #2. label data\n",
        "        label_real = labels[b*batch_size:(b+1)*batch_size] #batch data of label data\n",
        "        real_one_hot_labels = label_real[:, None]\n",
        "        real_one_hot_labels = tf.repeat(real_one_hot_labels, repeats=[1000])\n",
        "        real_one_hot_labels = tf.reshape(\n",
        "                real_one_hot_labels, (-1, 1000, hp.num_classes) #prepare labels to be concat with variant data.\n",
        "                )\n",
        "        real_one_hot_labels = tf.squeeze(real_one_hot_labels)\n",
        "\n",
        "        #3. concat variant data with labels\n",
        "        real_labelled_data = tf.concat([var_data_real, real_one_hot_labels], -1)\n",
        "        \n",
        "        #4. prepare fake data\n",
        "        latent_data = tf.random.normal(shape=(batch_size, hp.latent_size)) \n",
        "        latent_labels = tf.concat([latent_data, label_real], axis=1)\n",
        "\n",
        "        #5. train generator on fake data\n",
        "        artificial_trained_data = generator.predict_on_batch(latent_labels)\n",
        "        artificial_trained_data = tf.expand_dims(artificial_trained_data, axis = -1)\n",
        "\n",
        "        #6. prepare real+fake training set for discriminator\n",
        "        artificial_labelled_data = tf.concat([artificial_trained_data, real_one_hot_labels], -1)\n",
        "        combined_labelled_data = tf.concat(\n",
        "            [artificial_labelled_data, real_labelled_data], axis=0\n",
        "        )\n",
        "\n",
        "        #7. make labels for real+fake data\n",
        "        rf_labels = tf.concat(\n",
        "                [tf.ones((batch_size, 1)), tf.zeros((batch_size, 1))], axis=0\n",
        "            )\n",
        "        \n",
        "        #8. train discriminator on combined dataset\n",
        "        discriminator.trainable = True\n",
        "        with tf.GradientTape() as tape:\n",
        "            predicted_labels = discriminator(combined_labelled_data)\n",
        "            d_loss = loss_func(rf_labels, predicted_labels)\n",
        "        d_grads = tape.gradient(d_loss, discriminator.trainable_weights)\n",
        "        d_optimizer.apply_gradients(zip(d_grads, discriminator.trainable_weights))\n",
        "\n",
        "        #9. make misleading labels\n",
        "        misleading_labels = tf.zeros((batch_size, 1))\n",
        "\n",
        "        #10. train cGAN\n",
        "        discriminator.trainable = False\n",
        "        with tf.GradientTape() as tape:\n",
        "            artificial_trained_data = generator(latent_labels)\n",
        "            artificial_trained_data = tf.expand_dims(artificial_trained_data, axis = -1)\n",
        "            artificial_labelled_data = tf.concat([artificial_trained_data, real_one_hot_labels], -1)\n",
        "            g_loss = discriminator(artificial_labelled_data, misleading_labels)\n",
        "        g_grads = tape.gradient(g_loss, generator.trainable_weights)\n",
        "        g_optimizer.apply_gradients(zip(g_grads, generator.trainable_weights))\n",
        "\n",
        "        losses.append([d_loss, g_loss])\n",
        "\n",
        "      #save models at checkpoint\n",
        "      if e % 100 == 0 and e != 0:\n",
        "        save_mod(generator, discriminator, str(e))\n",
        "      elif e == range(epoch):\n",
        "        save_mod(generator, discriminator, str(e))"
      ],
      "metadata": {
        "id": "EHqTZbKs_JLJ",
        "colab": {
          "base_uri": "https://localhost:8080/"
        },
        "outputId": "8c3589d6-6a32-4dff-8400-a6b1583438a7"
      },
      "execution_count": null,
      "outputs": [
        {
          "output_type": "stream",
          "name": "stderr",
          "text": [
            "  0%|          | 0/318 [00:00<?, ?it/s]/usr/local/lib/python3.7/dist-packages/tensorflow/python/util/dispatch.py:1082: UserWarning: \"`binary_crossentropy` received `from_logits=True`, but the `output` argument was produced by a sigmoid or softmax activation and thus does not represent logits. Was this intended?\"\n",
            "  return dispatch_target(*args, **kwargs)\n",
            "100%|██████████| 318/318 [00:10<00:00, 29.92it/s]\n",
            "100%|██████████| 318/318 [00:10<00:00, 31.16it/s]\n",
            "100%|██████████| 318/318 [00:10<00:00, 31.48it/s]\n",
            "100%|██████████| 318/318 [00:10<00:00, 30.36it/s]\n",
            "100%|██████████| 318/318 [00:10<00:00, 31.48it/s]\n",
            "100%|██████████| 318/318 [00:10<00:00, 31.05it/s]\n",
            "100%|██████████| 318/318 [00:10<00:00, 30.92it/s]\n",
            "100%|██████████| 318/318 [00:09<00:00, 32.06it/s]\n",
            "100%|██████████| 318/318 [00:10<00:00, 31.33it/s]\n",
            "100%|██████████| 318/318 [00:10<00:00, 30.84it/s]\n",
            "100%|██████████| 318/318 [00:10<00:00, 29.88it/s]\n",
            "100%|██████████| 318/318 [00:10<00:00, 30.99it/s]\n",
            "100%|██████████| 318/318 [00:09<00:00, 31.92it/s]\n",
            "100%|██████████| 318/318 [00:10<00:00, 29.72it/s]\n",
            "100%|██████████| 318/318 [00:10<00:00, 31.43it/s]\n",
            "100%|██████████| 318/318 [00:10<00:00, 31.15it/s]\n",
            "100%|██████████| 318/318 [00:10<00:00, 31.06it/s]\n",
            "100%|██████████| 318/318 [00:10<00:00, 31.78it/s]\n",
            "100%|██████████| 318/318 [00:10<00:00, 31.02it/s]\n",
            "100%|██████████| 318/318 [00:10<00:00, 29.35it/s]\n",
            "100%|██████████| 318/318 [00:10<00:00, 31.23it/s]\n",
            "100%|██████████| 318/318 [00:10<00:00, 30.83it/s]\n",
            "100%|██████████| 318/318 [00:10<00:00, 30.94it/s]\n",
            "100%|██████████| 318/318 [00:14<00:00, 21.32it/s]\n",
            "100%|██████████| 318/318 [00:17<00:00, 17.84it/s]\n",
            "100%|██████████| 318/318 [00:10<00:00, 31.07it/s]\n",
            "100%|██████████| 318/318 [00:10<00:00, 31.52it/s]\n",
            "100%|██████████| 318/318 [00:10<00:00, 31.20it/s]\n",
            "100%|██████████| 318/318 [00:10<00:00, 30.94it/s]\n",
            "100%|██████████| 318/318 [00:10<00:00, 29.74it/s]\n",
            "100%|██████████| 318/318 [00:17<00:00, 17.74it/s]\n",
            "100%|██████████| 318/318 [00:16<00:00, 19.36it/s]\n",
            "100%|██████████| 318/318 [00:10<00:00, 29.78it/s]\n",
            "100%|██████████| 318/318 [00:10<00:00, 31.18it/s]\n",
            "100%|██████████| 318/318 [00:10<00:00, 30.79it/s]\n",
            "100%|██████████| 318/318 [00:10<00:00, 31.20it/s]\n",
            "100%|██████████| 318/318 [00:10<00:00, 30.92it/s]\n",
            "100%|██████████| 318/318 [00:10<00:00, 31.32it/s]\n",
            "100%|██████████| 318/318 [00:10<00:00, 30.77it/s]\n",
            "100%|██████████| 318/318 [00:15<00:00, 20.35it/s]\n",
            "100%|██████████| 318/318 [00:10<00:00, 31.51it/s]\n",
            "100%|██████████| 318/318 [00:10<00:00, 30.68it/s]\n",
            "100%|██████████| 318/318 [00:10<00:00, 30.40it/s]\n",
            "100%|██████████| 318/318 [00:10<00:00, 31.32it/s]\n",
            "100%|██████████| 318/318 [00:10<00:00, 30.68it/s]\n",
            "100%|██████████| 318/318 [00:10<00:00, 30.27it/s]\n",
            "100%|██████████| 318/318 [00:09<00:00, 32.75it/s]\n",
            "100%|██████████| 318/318 [00:09<00:00, 32.69it/s]\n",
            "100%|██████████| 318/318 [00:09<00:00, 32.24it/s]\n",
            "100%|██████████| 318/318 [00:09<00:00, 32.62it/s]\n",
            "100%|██████████| 318/318 [00:10<00:00, 30.44it/s]\n",
            "100%|██████████| 318/318 [00:10<00:00, 31.72it/s]\n",
            "100%|██████████| 318/318 [00:09<00:00, 32.08it/s]\n",
            "100%|██████████| 318/318 [00:09<00:00, 31.92it/s]\n",
            "100%|██████████| 318/318 [00:09<00:00, 32.53it/s]\n",
            "100%|██████████| 318/318 [00:09<00:00, 32.39it/s]\n",
            "100%|██████████| 318/318 [00:09<00:00, 32.62it/s]\n",
            "100%|██████████| 318/318 [00:09<00:00, 32.55it/s]\n",
            "100%|██████████| 318/318 [00:09<00:00, 32.44it/s]\n",
            "100%|██████████| 318/318 [00:09<00:00, 31.86it/s]\n",
            "100%|██████████| 318/318 [00:10<00:00, 30.99it/s]\n",
            "100%|██████████| 318/318 [00:09<00:00, 32.36it/s]\n",
            "100%|██████████| 318/318 [00:09<00:00, 32.64it/s]\n",
            "100%|██████████| 318/318 [00:09<00:00, 32.19it/s]\n",
            "100%|██████████| 318/318 [00:09<00:00, 32.10it/s]\n",
            "100%|██████████| 318/318 [00:10<00:00, 31.74it/s]\n",
            "100%|██████████| 318/318 [00:09<00:00, 32.59it/s]\n",
            "100%|██████████| 318/318 [00:09<00:00, 32.80it/s]\n",
            "100%|██████████| 318/318 [00:09<00:00, 32.47it/s]\n",
            "100%|██████████| 318/318 [00:09<00:00, 32.29it/s]\n",
            "100%|██████████| 318/318 [00:09<00:00, 32.38it/s]\n",
            "100%|██████████| 318/318 [00:09<00:00, 32.24it/s]\n",
            "100%|██████████| 318/318 [00:09<00:00, 32.86it/s]\n",
            "100%|██████████| 318/318 [00:09<00:00, 32.82it/s]\n",
            "100%|██████████| 318/318 [00:09<00:00, 32.27it/s]\n",
            "100%|██████████| 318/318 [00:09<00:00, 32.10it/s]\n",
            "100%|██████████| 318/318 [00:09<00:00, 32.55it/s]\n",
            "100%|██████████| 318/318 [00:09<00:00, 32.47it/s]\n",
            "100%|██████████| 318/318 [00:09<00:00, 32.59it/s]\n",
            "100%|██████████| 318/318 [00:09<00:00, 32.66it/s]\n",
            "100%|██████████| 318/318 [00:09<00:00, 32.48it/s]\n",
            "100%|██████████| 318/318 [00:09<00:00, 32.52it/s]\n",
            "100%|██████████| 318/318 [00:09<00:00, 32.47it/s]\n",
            "100%|██████████| 318/318 [00:09<00:00, 32.68it/s]\n",
            "100%|██████████| 318/318 [00:09<00:00, 32.72it/s]\n",
            "100%|██████████| 318/318 [00:09<00:00, 32.53it/s]\n",
            "100%|██████████| 318/318 [00:09<00:00, 32.57it/s]\n",
            "100%|██████████| 318/318 [00:09<00:00, 32.25it/s]\n",
            "100%|██████████| 318/318 [00:09<00:00, 32.76it/s]\n",
            "100%|██████████| 318/318 [00:09<00:00, 32.43it/s]\n",
            "100%|██████████| 318/318 [00:09<00:00, 31.95it/s]\n",
            "100%|██████████| 318/318 [00:09<00:00, 32.14it/s]\n",
            "100%|██████████| 318/318 [00:09<00:00, 32.72it/s]\n",
            "100%|██████████| 318/318 [00:09<00:00, 32.59it/s]\n",
            "100%|██████████| 318/318 [00:09<00:00, 32.53it/s]\n",
            "100%|██████████| 318/318 [00:09<00:00, 32.30it/s]\n",
            "100%|██████████| 318/318 [00:09<00:00, 32.38it/s]\n",
            "100%|██████████| 318/318 [00:09<00:00, 32.50it/s]\n",
            "100%|██████████| 318/318 [00:09<00:00, 32.88it/s]\n",
            "100%|██████████| 318/318 [00:09<00:00, 32.79it/s]\n",
            "100%|██████████| 318/318 [00:09<00:00, 32.61it/s]"
          ]
        },
        {
          "output_type": "stream",
          "name": "stdout",
          "text": [
            "WARNING:tensorflow:Compiled the loaded model, but the compiled metrics have yet to be built. `model.compile_metrics` will be empty until you train or evaluate the model.\n"
          ]
        },
        {
          "output_type": "stream",
          "name": "stderr",
          "text": [
            "\n"
          ]
        },
        {
          "output_type": "stream",
          "name": "stdout",
          "text": [
            "INFO:tensorflow:Assets written to: /content/drive/MyDrive/artificial_genome_project/cgan_models/100_generator/assets\n",
            "INFO:tensorflow:Assets written to: /content/drive/MyDrive/artificial_genome_project/cgan_models/100_discriminator/assets\n"
          ]
        },
        {
          "output_type": "stream",
          "name": "stderr",
          "text": [
            "  0%|          | 0/318 [00:00<?, ?it/s]/usr/local/lib/python3.7/dist-packages/tensorflow/python/util/dispatch.py:1082: UserWarning: \"`binary_crossentropy` received `from_logits=True`, but the `output` argument was produced by a sigmoid or softmax activation and thus does not represent logits. Was this intended?\"\n",
            "  return dispatch_target(*args, **kwargs)\n",
            "100%|██████████| 318/318 [00:09<00:00, 31.98it/s]\n",
            "100%|██████████| 318/318 [00:09<00:00, 32.42it/s]\n",
            "100%|██████████| 318/318 [00:09<00:00, 32.64it/s]\n",
            "100%|██████████| 318/318 [00:09<00:00, 32.24it/s]\n",
            "100%|██████████| 318/318 [00:09<00:00, 32.22it/s]\n",
            "100%|██████████| 318/318 [00:09<00:00, 32.35it/s]\n",
            "100%|██████████| 318/318 [00:09<00:00, 32.20it/s]\n",
            "100%|██████████| 318/318 [00:09<00:00, 32.79it/s]\n",
            "100%|██████████| 318/318 [00:09<00:00, 32.49it/s]\n",
            "100%|██████████| 318/318 [00:09<00:00, 32.10it/s]\n",
            "100%|██████████| 318/318 [00:09<00:00, 32.28it/s]\n",
            "100%|██████████| 318/318 [00:09<00:00, 32.15it/s]\n",
            "100%|██████████| 318/318 [00:09<00:00, 32.29it/s]\n",
            "100%|██████████| 318/318 [00:09<00:00, 32.86it/s]\n",
            "100%|██████████| 318/318 [00:09<00:00, 32.42it/s]\n",
            "100%|██████████| 318/318 [00:09<00:00, 32.47it/s]\n",
            "100%|██████████| 318/318 [00:09<00:00, 32.28it/s]\n",
            "100%|██████████| 318/318 [00:09<00:00, 32.38it/s]\n",
            "100%|██████████| 318/318 [00:09<00:00, 32.91it/s]\n",
            "100%|██████████| 318/318 [00:09<00:00, 32.55it/s]\n",
            "100%|██████████| 318/318 [00:09<00:00, 32.46it/s]\n",
            "100%|██████████| 318/318 [00:09<00:00, 32.43it/s]\n",
            "100%|██████████| 318/318 [00:09<00:00, 32.24it/s]\n",
            "100%|██████████| 318/318 [00:09<00:00, 32.66it/s]\n",
            "100%|██████████| 318/318 [00:09<00:00, 32.98it/s]\n",
            "100%|██████████| 318/318 [00:10<00:00, 31.73it/s]\n",
            "100%|██████████| 318/318 [00:09<00:00, 32.55it/s]\n",
            "100%|██████████| 318/318 [00:09<00:00, 32.74it/s]\n",
            "100%|██████████| 318/318 [00:09<00:00, 32.77it/s]\n",
            "100%|██████████| 318/318 [00:09<00:00, 32.69it/s]\n",
            "100%|██████████| 318/318 [00:09<00:00, 32.58it/s]\n",
            "100%|██████████| 318/318 [00:09<00:00, 32.67it/s]\n",
            "100%|██████████| 318/318 [00:09<00:00, 33.26it/s]\n",
            "100%|██████████| 318/318 [00:09<00:00, 32.48it/s]\n",
            "100%|██████████| 318/318 [00:09<00:00, 32.70it/s]\n",
            "100%|██████████| 318/318 [00:09<00:00, 32.27it/s]\n",
            "100%|██████████| 318/318 [00:09<00:00, 32.33it/s]\n",
            "100%|██████████| 318/318 [00:09<00:00, 31.99it/s]\n",
            "100%|██████████| 318/318 [00:09<00:00, 32.62it/s]\n",
            "100%|██████████| 318/318 [00:09<00:00, 32.52it/s]\n",
            "100%|██████████| 318/318 [00:09<00:00, 32.63it/s]\n",
            "100%|██████████| 318/318 [00:09<00:00, 32.42it/s]\n",
            "100%|██████████| 318/318 [00:09<00:00, 32.53it/s]\n",
            "100%|██████████| 318/318 [00:09<00:00, 32.65it/s]\n",
            "100%|██████████| 318/318 [00:09<00:00, 32.59it/s]\n",
            "100%|██████████| 318/318 [00:09<00:00, 32.78it/s]\n",
            "100%|██████████| 318/318 [00:09<00:00, 32.85it/s]\n",
            "100%|██████████| 318/318 [00:09<00:00, 32.50it/s]\n",
            "100%|██████████| 318/318 [00:09<00:00, 32.93it/s]\n",
            "100%|██████████| 318/318 [00:09<00:00, 32.94it/s]\n",
            "100%|██████████| 318/318 [00:09<00:00, 32.83it/s]\n",
            "100%|██████████| 318/318 [00:09<00:00, 32.21it/s]\n",
            "100%|██████████| 318/318 [00:10<00:00, 31.77it/s]\n",
            "100%|██████████| 318/318 [00:10<00:00, 31.43it/s]\n",
            "100%|██████████| 318/318 [00:10<00:00, 31.59it/s]\n",
            "100%|██████████| 318/318 [00:10<00:00, 31.03it/s]\n",
            "100%|██████████| 318/318 [00:15<00:00, 21.08it/s]\n",
            "100%|██████████| 318/318 [00:09<00:00, 32.08it/s]\n",
            "100%|██████████| 318/318 [00:09<00:00, 32.09it/s]\n",
            "100%|██████████| 318/318 [00:10<00:00, 31.63it/s]\n",
            "100%|██████████| 318/318 [00:09<00:00, 31.84it/s]\n",
            "100%|██████████| 318/318 [00:09<00:00, 32.13it/s]\n",
            "100%|██████████| 318/318 [00:09<00:00, 31.88it/s]\n",
            "100%|██████████| 318/318 [00:09<00:00, 31.98it/s]\n",
            "100%|██████████| 318/318 [00:09<00:00, 32.12it/s]\n",
            "100%|██████████| 318/318 [00:09<00:00, 32.84it/s]\n",
            "100%|██████████| 318/318 [00:09<00:00, 32.75it/s]\n",
            "100%|██████████| 318/318 [00:10<00:00, 31.21it/s]\n",
            "100%|██████████| 318/318 [00:09<00:00, 32.31it/s]\n",
            "100%|██████████| 318/318 [00:09<00:00, 32.66it/s]\n",
            "100%|██████████| 318/318 [00:09<00:00, 32.66it/s]\n",
            "100%|██████████| 318/318 [00:09<00:00, 32.55it/s]\n",
            "100%|██████████| 318/318 [00:09<00:00, 32.47it/s]\n",
            "100%|██████████| 318/318 [00:09<00:00, 32.70it/s]\n",
            "100%|██████████| 318/318 [00:09<00:00, 32.69it/s]\n",
            "100%|██████████| 318/318 [00:09<00:00, 32.79it/s]\n",
            "100%|██████████| 318/318 [00:09<00:00, 32.32it/s]\n",
            "100%|██████████| 318/318 [00:10<00:00, 31.52it/s]\n",
            "100%|██████████| 318/318 [00:09<00:00, 32.65it/s]\n",
            "100%|██████████| 318/318 [00:09<00:00, 32.62it/s]\n",
            "100%|██████████| 318/318 [00:09<00:00, 32.59it/s]\n",
            "100%|██████████| 318/318 [00:09<00:00, 32.76it/s]\n",
            "100%|██████████| 318/318 [00:09<00:00, 32.76it/s]\n",
            "100%|██████████| 318/318 [00:09<00:00, 32.84it/s]\n",
            "100%|██████████| 318/318 [00:09<00:00, 32.23it/s]\n",
            "100%|██████████| 318/318 [00:09<00:00, 32.75it/s]\n",
            "100%|██████████| 318/318 [00:10<00:00, 31.57it/s]\n",
            "100%|██████████| 318/318 [00:09<00:00, 32.40it/s]\n",
            "100%|██████████| 318/318 [00:09<00:00, 32.45it/s]\n",
            "100%|██████████| 318/318 [00:09<00:00, 32.70it/s]\n",
            "100%|██████████| 318/318 [00:09<00:00, 32.44it/s]\n",
            "100%|██████████| 318/318 [00:09<00:00, 32.83it/s]\n",
            "100%|██████████| 318/318 [00:09<00:00, 32.87it/s]\n",
            "100%|██████████| 318/318 [00:09<00:00, 32.64it/s]\n",
            "100%|██████████| 318/318 [00:09<00:00, 32.76it/s]\n",
            "100%|██████████| 318/318 [00:09<00:00, 32.68it/s]\n",
            "100%|██████████| 318/318 [00:09<00:00, 32.34it/s]\n",
            "100%|██████████| 318/318 [00:09<00:00, 32.80it/s]\n",
            "100%|██████████| 318/318 [00:09<00:00, 32.60it/s]\n"
          ]
        }
      ]
    },
    {
      "cell_type": "code",
      "source": [
        "save_mod(generator, discriminator, str(e))"
      ],
      "metadata": {
        "colab": {
          "base_uri": "https://localhost:8080/"
        },
        "id": "UY52FCGt3Z62",
        "outputId": "2fd3017f-cc72-4fe1-b86f-5db25f230117"
      },
      "execution_count": null,
      "outputs": [
        {
          "output_type": "stream",
          "name": "stdout",
          "text": [
            "WARNING:tensorflow:Compiled the loaded model, but the compiled metrics have yet to be built. `model.compile_metrics` will be empty until you train or evaluate the model.\n",
            "INFO:tensorflow:Assets written to: /content/drive/MyDrive/artificial_genome_project/cgan_models/10_generator/assets\n",
            "INFO:tensorflow:Assets written to: /content/drive/MyDrive/artificial_genome_project/cgan_models/10_discriminator/assets\n"
          ]
        }
      ]
    },
    {
      "cell_type": "markdown",
      "source": [
        "---"
      ],
      "metadata": {
        "id": "XQLweYSM1aL7"
      }
    },
    {
      "cell_type": "code",
      "source": [
        "# create artificial genome dataset\n",
        "generator_model_filepath = '/content/drive/MyDrive/artificial_genome_project/cgan_models/100_generator/'\n",
        "generator = tf.keras.models.load_model(generator_model_filepath)\n",
        "\n",
        "num_classes = hp.num_classes #num classes\n",
        "\n",
        "# latent data\n",
        "ag_num = 100\n",
        "latent_samples = np.random.normal(loc=0, scale=1, size=(ag_num, hp.latent_size+hp.num_classes,))\n",
        "generated_genomes = generator.predict(latent_samples)\n",
        "\n",
        "for class_idx in range(num_classes):\n",
        "    label = keras.utils.to_categorical([class_idx], num_classes)\n",
        "    label = label[:, None]\n",
        "    label = tf.repeat(label, repeats=[ag_num])\n",
        "    label = tf.reshape(\n",
        "            label, (-1, ag_num, hp.num_classes) #prepare labels to be concat with variant data.\n",
        "            )\n",
        "    label = tf.squeeze(label)\n",
        "    label = tf.cast(label, tf.float32)\n",
        "\n",
        "    latent_data = tf.random.normal(shape=(ag_num, hp.latent_size)) \n",
        "    latent_labels = tf.concat([latent_data, label], axis=1)\n",
        "\n",
        "    artificial_data = generator.predict(latent_labels)\n",
        "    artificial_data_df = pd.DataFrame(artificial_data)\n",
        "\n",
        "    artificial_data_df.to_csv('/content/drive/MyDrive/artificial_genome_project/artificial_data/artificial_genome_'+str(class_idx)+'.csv', index=False)"
      ],
      "metadata": {
        "colab": {
          "base_uri": "https://localhost:8080/"
        },
        "id": "0vjxVkl-oIkf",
        "outputId": "5d96f21a-38d6-4466-fb3b-7da5db69ef9d"
      },
      "execution_count": null,
      "outputs": [
        {
          "output_type": "stream",
          "name": "stdout",
          "text": [
            "WARNING:tensorflow:No training configuration found in save file, so the model was *not* compiled. Compile it manually.\n"
          ]
        }
      ]
    },
    {
      "cell_type": "code",
      "source": [
        "tf.keras.utils.plot_model(discriminator), tf.keras.utils.plot_model(generator)"
      ],
      "metadata": {
        "colab": {
          "base_uri": "https://localhost:8080/"
        },
        "id": "BpFi9RFKEeh4",
        "outputId": "c64bf0f5-5c8a-42b2-fab5-df6469a33231"
      },
      "execution_count": null,
      "outputs": [
        {
          "output_type": "execute_result",
          "data": {
            "text/plain": [
              "(<IPython.core.display.Image object>, <IPython.core.display.Image object>)"
            ]
          },
          "metadata": {},
          "execution_count": 154
        }
      ]
    },
    {
      "cell_type": "markdown",
      "source": [
        "---"
      ],
      "metadata": {
        "id": "ykL0GhXRXuPL"
      }
    }
  ]
}