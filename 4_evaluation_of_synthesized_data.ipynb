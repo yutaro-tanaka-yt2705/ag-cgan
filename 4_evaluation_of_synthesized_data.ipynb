{
  "nbformat": 4,
  "nbformat_minor": 0,
  "metadata": {
    "colab": {
      "name": "4.evaluation_of_synthesized_data.ipynb",
      "provenance": [],
      "authorship_tag": "ABX9TyPN7bziyJPDR6bbfFv4gLz9",
      "include_colab_link": true
    },
    "kernelspec": {
      "name": "python3",
      "display_name": "Python 3"
    },
    "language_info": {
      "name": "python"
    }
  },
  "cells": [
    {
      "cell_type": "markdown",
      "metadata": {
        "id": "view-in-github",
        "colab_type": "text"
      },
      "source": [
        "<a href=\"https://colab.research.google.com/github/yutaro-tanaka-yt2705/ag-cgan/blob/main/4_evaluation_of_synthesized_data.ipynb\" target=\"_parent\"><img src=\"https://colab.research.google.com/assets/colab-badge.svg\" alt=\"Open In Colab\"/></a>"
      ]
    },
    {
      "cell_type": "code",
      "execution_count": null,
      "metadata": {
        "id": "6TgZr2JWhVJ0"
      },
      "outputs": [],
      "source": [
        ""
      ]
    }
  ]
}