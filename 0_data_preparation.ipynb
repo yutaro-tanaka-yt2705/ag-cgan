{
  "nbformat": 4,
  "nbformat_minor": 0,
  "metadata": {
    "colab": {
      "name": "0.data_preparation.ipynb",
      "provenance": [],
      "mount_file_id": "1SXG8S2o47oF8EZXYpjJlIjDLtHl27KwR",
      "authorship_tag": "ABX9TyPJYWDShPwPldUT4S9CWaKj",
      "include_colab_link": true
    },
    "kernelspec": {
      "name": "python3",
      "display_name": "Python 3"
    },
    "language_info": {
      "name": "python"
    }
  },
  "cells": [
    {
      "cell_type": "markdown",
      "metadata": {
        "id": "view-in-github",
        "colab_type": "text"
      },
      "source": [
        "<a href=\"https://colab.research.google.com/github/yutaro-tanaka-yt2705/ag-cgan/blob/main/0_data_preparation.ipynb\" target=\"_parent\"><img src=\"https://colab.research.google.com/assets/colab-badge.svg\" alt=\"Open In Colab\"/></a>"
      ]
    },
    {
      "cell_type": "code",
      "execution_count": 1,
      "metadata": {
        "id": "40rjlyCZzTFf"
      },
      "outputs": [],
      "source": [
        "import pandas as pd\n",
        "import numpy as np\n",
        "from tqdm import tqdm\n",
        "import matplotlib.pyplot as plt\n",
        "import gzip\n",
        "import warnings\n",
        "warnings.filterwarnings(\"ignore\")"
      ]
    },
    {
      "cell_type": "code",
      "source": [
        "def get_vcf_header(filename):\n",
        "    with gzip.open(filename, \"rb\") as fi:\n",
        "        for l in fi:\n",
        "            l = l.decode(\"utf-8\")\n",
        "            if l.startswith(\"##\"):\n",
        "                continue\n",
        "            elif l.startswith(\"#\"):\n",
        "                return l[1:].strip().split(\"\\t\")\n",
        "            else:\n",
        "                raise ValueError(\"Something wrong in the vcf file!\")\n",
        "\n",
        "#Obtain data from 1000 Genomes. For this, we will be using Chromosome X. \n",
        "vcf_filename = '/content/drive/MyDrive/artificial_genome_project/ALL.chrX.shapeit2_integrated_snvindels_v2a_27022019.GRCh38.phased.vcf.gz'\n",
        "\n",
        "vcf = pd.read_csv(vcf_filename, comment='#', sep=\"\\t\")\n",
        "vcf.columns = get_vcf_header(vcf_filename)\n",
        "print(vcf.shape)\n",
        "vcf.head()"
      ],
      "metadata": {
        "id": "cJdMgiwizVFl"
      },
      "execution_count": null,
      "outputs": []
    },
    {
      "cell_type": "code",
      "source": [
        ""
      ],
      "metadata": {
        "id": "dkMXPs9SztLm"
      },
      "execution_count": null,
      "outputs": []
    }
  ]
}